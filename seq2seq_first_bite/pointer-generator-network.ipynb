{
 "metadata": {
  "anaconda-cloud": {},
  "kernelspec": {
   "display_name": "Python 3",
   "language": "python",
   "name": "python3"
  },
  "language_info": {
   "codemirror_mode": {
    "name": "ipython",
    "version": 3
   },
   "file_extension": ".py",
   "mimetype": "text/x-python",
   "name": "python",
   "nbconvert_exporter": "python",
   "pygments_lexer": "ipython3",
   "version": "3.6.3"
  },
  "name": "",
  "signature": "sha256:de23a23bf775e3b0e854fddf45fd9e774e98205545befb261d1cb687e3b53431"
 },
 "nbformat": 3,
 "nbformat_minor": 0,
 "worksheets": [
  {
   "cells": [
    {
     "cell_type": "markdown",
     "metadata": {},
     "source": [
      "# Get To The Point: Summarization with Pointer-Generator Networks\n",
      "\n",
      "Abstractive summarization based on [See et al. (2017)](https://nlp.stanford.edu/pubs/see2017get.pdf) based on a hybrid pointer network and generative model. This is an intermediary between standard sequence-to-sequence models (eg. Nallapati et al.) and the pointer network of Vinyals et al. We use the **DailyMail** dataset to train and evaluate the model.\n",
      "\n",
      "The Pointer-Generator Network computes a probability distribution over words found in the vocabulary (generator) and a distribution over words found in the source material (pointer). These are combined with a computed probability $P_{gen}$, the probability that a the next word will be generated from the vocabulary. The loss function is a combination of negative log likelihood of the ground truth next word and a regularization term which penalizes repeated attention to the same segment of the source material. The final loss function is then:\n",
      "$$loss_t=-\\text{log}P(w_t^*)+\\lambda\\sum_i\\text{min}(a_i^t,c_i^t)$$"
     ]
    },
    {
     "cell_type": "markdown",
     "metadata": {},
     "source": [
      "# Requirements\n",
      "\n",
      "You will need [PyTorch](http://pytorch.org/) to build and train the models, and [matplotlib](https://matplotlib.org/) for plotting training and visualizing attention outputs later."
     ]
    },
    {
     "cell_type": "code",
     "collapsed": true,
     "input": [
      "import unicodedata\n",
      "import string\n",
      "import re\n",
      "import random\n",
      "import time\n",
      "import math\n",
      "import csv\n",
      "import os\n",
      "import sys\n",
      "import heapq\n",
      "\n",
      "import torch\n",
      "import torch.nn as nn\n",
      "from torch.autograd import Variable\n",
      "from torch import optim\n",
      "import torch.nn.functional as F\n",
      "\n",
      "import os\n",
      "os.environ[\"CUDA_DEVICE_ORDER\"]=\"PCI_BUS_ID\"   # see issue #152\n",
      "os.environ[\"CUDA_VISIBLE_DEVICES\"]=\"6,7\"\n",
      "\n",
      "# number of files to be read (entire dataset is 17MB)\n",
      "num_files = 1000\n",
      "vocab_size = 10000"
     ],
     "language": "python",
     "metadata": {},
     "outputs": [],
     "prompt_number": 53
    },
    {
     "cell_type": "markdown",
     "metadata": {},
     "source": [
      "Here we will also define a constant to decide whether to use the GPU (with CUDA specifically) or the CPU. **If you don't have a GPU, set this to `False`**. Later when we create tensors, this variable will be used to decide whether we keep them on CPU or move them to GPU."
     ]
    },
    {
     "cell_type": "code",
     "collapsed": true,
     "input": [
      "USE_CUDA = False"
     ],
     "language": "python",
     "metadata": {},
     "outputs": [],
     "prompt_number": 54
    },
    {
     "cell_type": "markdown",
     "metadata": {},
     "source": [
      "# Loading data files\n",
      "\n",
      "The data for this project is a set of tokenized news articles from the DailyMail summarization corpus. The entries are located in separate files, and are organized with the article first, followed by a number of summary sentences. One sample file is as follows:\n",
      "```\n",
      "By\n",
      "Richard Spillett\n",
      "\n",
      "An electronic cigarette that exploded while charging in a car has prompted fresh safety fears over the product .\n",
      "\n",
      "Carer Kim Taylor , 54 , left the device on charge for just ten minutes before she noticed flames and thick black smoke billowing from the vehicle .\n",
      "\n",
      "No one was inside at the time , but the back seat was completely melted and the mother-of-two was horrified at the thought she and her family could have been injured .\n",
      "\n",
      "Scroll down for video\n",
      "\n",
      "Safety fear : Kim Taylor and her son Jake , 11 , had to extinguish a fire in her car after an e-cigarette exploded\n",
      "\n",
      "` I 've gone to sleep with it plugged in\n",
      "before , ' she said . ` I hate to think what would have happened if it had\n",
      "exploded next to me . '\n",
      "\n",
      "The\n",
      "battery-powered product is billed as a healthy alternative to real\n",
      "cigarettes as users inhale nicotine with no tar , tobacco or carbon\n",
      "monoxide .\n",
      "\n",
      "But there have\n",
      "been several cases of the device exploding while on charge and it is\n",
      "thought to have claimed its first victim in November last year .\n",
      "\n",
      "[...]\n",
      "\n",
      "Following the spate of incidents , fire investigator Charlie Pugsley said : ` People assume e-cigarettes are much safer than ordinary cigarettes , and in most cases they are .\n",
      "\n",
      "` The danger is that people sometimes use incorrect chargers which runs the risk of over-charging , which can potentially have explosive results . '\n",
      "\n",
      "@highlight\n",
      "\n",
      "Kim Taylor , 54 , left the device plugged in on back seat of Ford Mondeo\n",
      "\n",
      "@highlight\n",
      "\n",
      "But she returned minutes later to see smoke billowing from the vehicle\n",
      "\n",
      "@highlight\n",
      "\n",
      "She says the device exploded and burned a huge hole in her car seat\n",
      "\n",
      "@highlight\n",
      "\n",
      "Manufacturers say e-cigarettes must be used with the correct adapters\n",
      "\n",
      "@highlight\n",
      "\n",
      "The incident is the latest in a spate of fires attributed to e-cigarettes\n",
      "```\n",
      "\n",
      "For this summarization experiment, the data are stored in the `data/dm_stories_tokenized` folder."
     ]
    },
    {
     "cell_type": "markdown",
     "metadata": {},
     "source": [
      "Similar to the character encoding used in the character-level RNN tutorials, we will be representing each word in a language as a one-hot vector, or giant vector of zeros except for a single one (at the index of the word). Compared to the dozens of characters that might exist in a language, there are many many more words, so the encoding vector is much larger. We will however cheat a bit and trim the data to only use a few thousand words per language. On other tutorials,  they adopt an initial embedding matrix built from [GloVe](http://nlp.stanford.edu/projects/glove/), which can be tested afterwards."
     ]
    },
    {
     "cell_type": "markdown",
     "metadata": {},
     "source": [
      "### Indexing words\n",
      "\n",
      "We'll need a unique index per word to use as the inputs and targets of the networks later. To keep track of all this we will use a helper class called `Voc` which has word &rarr; index (`word2index`) and index &rarr; word (`index2word`) dictionaries, as well as a count of each word `word2count` to use to later replace rare words."
     ]
    },
    {
     "cell_type": "code",
     "collapsed": true,
     "input": [
      "SOS_token = 0\n",
      "EOS_token = 1\n",
      "\n",
      "class Voc:\n",
      "    def __init__(self, name):\n",
      "        self.name = name\n",
      "        self.word2index = {}\n",
      "        self.word2count = {}\n",
      "        self.index2word = {0: \"SOS\", 1: \"EOS\"}\n",
      "        self.n_words = 2 # Count SOS and EOS\n",
      "\n",
      "    def index_words(self, sentence):\n",
      "        for word in sentence.split(' '):\n",
      "            self.index_word(word)\n",
      "\n",
      "    def index_word(self, word):\n",
      "        if word not in self.word2index:\n",
      "            self.word2index[word] = self.n_words\n",
      "            self.word2count[word] = 1\n",
      "            self.index2word[self.n_words] = word\n",
      "            self.n_words += 1\n",
      "        else:\n",
      "            self.word2count[word] += 1\n",
      "\n",
      "    # removes all except the top \n",
      "    # duke is very sorry about bad code style \n",
      "    def prune(self, count):\n",
      "        if count >= self.n_words - 2: return\n",
      "        top_words = heapq.nlargest(count, self.word2count.items(), key=lambda x:x[1])\n",
      "        self.word2count = dict(top_words)\n",
      "        self.word2index = dict(zip([word[0] for word in top_words], range(2, count + 3)))\n",
      "        self.index2word = dict(zip(range(2, count + 3), [word[0] for word in top_words]))\n",
      "        self.index2word[0] = \"SOS\"\n",
      "        self.index2word[1] = \"EOS\"\n",
      "        self.n_words = count + 2"
     ],
     "language": "python",
     "metadata": {},
     "outputs": [],
     "prompt_number": 63
    },
    {
     "cell_type": "markdown",
     "metadata": {},
     "source": [
      "### Reading and decoding files\n",
      "\n",
      "The files are all in Unicode, to simplify we will turn Unicode characters to ASCII, make everything lowercase, and trim most punctuation."
     ]
    },
    {
     "cell_type": "code",
     "collapsed": true,
     "input": [
      "# Turn a Unicode string to plain ASCII, thanks to http://stackoverflow.com/a/518232/2809427\n",
      "def unicode_to_ascii(s):\n",
      "    return ''.join(\n",
      "        c for c in unicodedata.normalize('NFD', s)\n",
      "        if unicodedata.category(c) != 'Mn'\n",
      "    )\n",
      "\n",
      "# Lowercase, trim, and remove non-letter characters\n",
      "def normalize_string(s):\n",
      "    s = unicode_to_ascii(s.lower().strip())\n",
      "    s = re.sub(r\"([.!?])\", r\" \\1\", s)\n",
      "    s = re.sub(r\"[^a-zA-Z.!?]+\", r\" \", s)\n",
      "    return s"
     ],
     "language": "python",
     "metadata": {},
     "outputs": [],
     "prompt_number": 60
    },
    {
     "cell_type": "markdown",
     "metadata": {},
     "source": [
      "To read the data file we will split the file into lines, and then split lines into pairs. The files are all description &rarr; headline, so if we want to generate text from headline &rarr; description I added the `reverse` flag to reverse the pairs."
     ]
    },
    {
     "cell_type": "code",
     "collapsed": true,
     "input": [
      "def read_stories(pathname, reverse=False):\n",
      "    print(\"Reading csv...\")\n",
      "    \n",
      "    # Get the first num_files file names\n",
      "    files = os.listdir('../data/%s' % pathname)[:num_files]\n",
      "    \n",
      "    # Boolean flag for summary sentences\n",
      "    summary_next = False\n",
      "    \n",
      "    # Read each file and extract vocab\n",
      "    pairs = []\n",
      "    for filename in files:\n",
      "        with open('../data/%s/%s' % (pathname, filename), 'r') as story_file:\n",
      "            story = ''\n",
      "            summary = ''\n",
      "            for line in story_file:\n",
      "                if line == '\\n': continue # ignore blank lines\n",
      "                if line == '@highlight\\n': summary_next = True\n",
      "                else:\n",
      "                    if summary_next: summary += line\n",
      "                    else: story += line\n",
      "                    summary_next = False\n",
      "            pairs.append([normalize_string(story), normalize_string(summary)])\n",
      "            \n",
      "    # Reverse pairs, make Lang instances (not supported)\n",
      "    if reverse:\n",
      "        pairs = [list(reversed(p)) for p in pairs]\n",
      "    voc = Voc(pathname)\n",
      "\n",
      "    return voc, pairs"
     ],
     "language": "python",
     "metadata": {},
     "outputs": [],
     "prompt_number": 61
    },
    {
     "cell_type": "markdown",
     "metadata": {},
     "source": [
      "###Preparing Data\n",
      "\n",
      "The full process for preparing the data is:\n",
      "\n",
      "* Read text file and split into lines, split lines into pairs\n",
      "* Make word lists from sentences in pairs"
     ]
    },
    {
     "cell_type": "code",
     "collapsed": false,
     "input": [
      "def prepare_data(pathname, reverse=False):\n",
      "    voc, pairs = read_stories(pathname, reverse)\n",
      "    print(\"Read %s sentence pairs\" % len(pairs))\n",
      "    \n",
      "    print(\"Indexing words...\")\n",
      "    for pair in pairs:\n",
      "        voc.index_words(pair[0])\n",
      "        voc.index_words(pair[1])\n",
      "    voc.prune(vocab_size)\n",
      "    print(\"    found %d words\" % voc.n_words)\n",
      "\n",
      "    return voc, pairs\n",
      "\n",
      "voc, pairs = prepare_data('dm_stories_tokenized', False)\n",
      "\n",
      "#print(random.choice(pairs)[0])\n",
      "print(random.choice(pairs)[1])"
     ],
     "language": "python",
     "metadata": {},
     "outputs": [
      {
       "output_type": "stream",
       "stream": "stdout",
       "text": [
        "Reading csv...\n",
        "Read 1000 sentence pairs"
       ]
      },
      {
       "output_type": "stream",
       "stream": "stdout",
       "text": [
        "\n",
        "Indexing words...\n",
        "    found 10002 words"
       ]
      },
      {
       "output_type": "stream",
       "stream": "stdout",
       "text": [
        "\n",
        "the festival was started in after the town was crippled by drought locals say the goomeri pumpkin festival united them during hard times it is held every year on the last sunday of the month in the sleepy town it involves people rolling the orange vegetable down a steep hill\n"
       ]
      }
     ],
     "prompt_number": 64
    },
    {
     "cell_type": "markdown",
     "metadata": {},
     "source": [
      "## Turning training data into Tensors/Variables\n",
      "\n",
      "To train we need to turn the sentences into something the neural network can understand, which of course means numbers. Each sentence will be split into words and turned into a Tensor, where each word is replaced with the index (from the Lang indexes made earlier). While creating these tensors we will also append the EOS token to signal that the sentence is over.\n",
      "\n",
      "![](https://i.imgur.com/LzocpGH.png)\n",
      "\n",
      "A Tensor is a multi-dimensional array of numbers, defined with some type e.g. FloatTensor or LongTensor. In this case we'll be using LongTensor to represent an array of integer indexes.\n",
      "\n",
      "Trainable PyTorch modules take Variables as input, rather than plain Tensors. A Variable is basically a Tensor that is able to keep track of the graph state, which is what makes autograd (automatic calculation of backwards gradients) possible."
     ]
    },
    {
     "cell_type": "code",
     "collapsed": true,
     "input": [
      "# Return a list of indexes, one for each word in the sentence\n",
      "def indexes_from_sentence(voc, sentence):\n",
      "    return [voc.word2index[word] for word in sentence.split(' ')]\n",
      "\n",
      "def variable_from_sentence(voc, sentence):\n",
      "    indexes = indexes_from_sentence(voc, sentence)\n",
      "    indexes.append(EOS_token)\n",
      "    var = Variable(torch.LongTensor(indexes).view(-1, 1))\n",
      "#     print('var =', var)\n",
      "    if USE_CUDA: var = var.cuda()\n",
      "    return var\n",
      "\n",
      "def variables_from_pair(pair):\n",
      "    input_variable = variable_from_sentence(voc, pair[0])\n",
      "    target_variable = variable_from_sentence(voc, pair[1])\n",
      "    return (input_variable, target_variable)"
     ],
     "language": "python",
     "metadata": {},
     "outputs": [],
     "prompt_number": 26
    },
    {
     "cell_type": "heading",
     "level": 1,
     "metadata": {},
     "source": [
      "Building the models"
     ]
    },
    {
     "cell_type": "markdown",
     "metadata": {},
     "source": [
      "## The Encoder\n",
      "\n",
      "<img src=\"images/encoder-network.png\" style=\"float: right\" />\n",
      "\n",
      "The encoder of a seq2seq network is a RNN that outputs some value for every word from the input sentence. For every input word the encoder outputs a vector and a hidden state, and uses the hidden state for the next input word."
     ]
    },
    {
     "cell_type": "code",
     "collapsed": true,
     "input": [
      "class EncoderRNN(nn.Module):\n",
      "    def __init__(self, input_size, hidden_size, n_layers=1):\n",
      "        super(EncoderRNN, self).__init__()\n",
      "        \n",
      "        self.input_size = input_size\n",
      "        self.hidden_size = hidden_size\n",
      "        self.n_layers = n_layers\n",
      "        \n",
      "        self.embedding = nn.Embedding(input_size, hidden_size)\n",
      "        self.gru = nn.GRU(hidden_size, hidden_size, n_layers)\n",
      "        \n",
      "    def forward(self, word_inputs, hidden):\n",
      "        # Note: we run this all at once (over the whole input sequence)\n",
      "        seq_len = len(word_inputs)\n",
      "        embedded = self.embedding(word_inputs).view(seq_len, 1, -1)\n",
      "        output, hidden = self.gru(embedded, hidden)\n",
      "        return output, hidden\n",
      "\n",
      "    def init_hidden(self):\n",
      "        hidden = Variable(torch.zeros(self.n_layers, 1, self.hidden_size))\n",
      "        if USE_CUDA: hidden = hidden.cuda()\n",
      "        return hidden"
     ],
     "language": "python",
     "metadata": {},
     "outputs": [],
     "prompt_number": 27
    },
    {
     "cell_type": "heading",
     "level": 2,
     "metadata": {},
     "source": [
      "Attention Decoder"
     ]
    },
    {
     "cell_type": "markdown",
     "metadata": {},
     "source": [
      "### Interpreting the Bahdanau et al. model\n",
      "\n",
      "The attention model in [Neural Machine Translation by Jointly Learning to Align and Translate](https://arxiv.org/abs/1409.0473) is described as the following series of equations.\n",
      "\n",
      "Each decoder output is conditioned on the previous outputs and some $\\mathbf x$, where $\\mathbf x$ consists of the current hidden state (which takes into account previous outputs) and the attention \"context\", which is calculated below. The function $g$ is a fully-connected layer with a nonlinear activation, which takes as input the values $y_{i-1}$, $s_i$, and $c_i$ concatenated.\n",
      "\n",
      "$$\n",
      "p(y_i \\mid \\{y_1,...,y_{i-1}\\},\\mathbf{x}) = g(y_{i-1}, s_i, c_i)\n",
      "$$\n",
      "\n",
      "The current hidden state $s_i$ is calculated by an RNN $f$ with the last hidden state $s_{i-1}$, last decoder output value $y_{i-1}$, and context vector $c_i$.\n",
      "\n",
      "In the code, the RNN will be a `nn.GRU` layer, the hidden state $s_i$ will be called `hidden`, the output $y_i$ called `output`, and context $c_i$ called `context`.\n",
      "\n",
      "$$\n",
      "s_i = f(s_{i-1}, y_{i-1}, c_i)\n",
      "$$\n",
      "\n",
      "The context vector $c_i$ is a weighted sum of all encoder outputs, where each weight $a_{ij}$ is the amount of \"attention\" paid to the corresponding encoder output $h_j$.\n",
      "\n",
      "$$\n",
      "c_i = \\sum_{j=1}^{T_x} a_{ij} h_j\n",
      "$$\n",
      "\n",
      "... where each weight $a_{ij}$ is a normalized (over all steps) attention \"energy\" $e_{ij}$ ...\n",
      "\n",
      "$$\n",
      "a_{ij} = \\dfrac{exp(e_{ij})}{\\sum_{k=1}^{T} exp(e_{ik})}\n",
      "$$\n",
      "\n",
      "... where each attention energy is calculated with some function $a$ (such as another linear layer) using the last hidden state $s_{i-1}$ and that particular encoder output $h_j$:\n",
      "\n",
      "$$\n",
      "e_{ij} = a(s_{i-1}, h_j)\n",
      "$$"
     ]
    },
    {
     "cell_type": "markdown",
     "metadata": {},
     "source": [
      "### Implementing the Bahdanau et al. model\n",
      "\n",
      "In summary our decoder should consist of four main parts - an embedding layer turning an input word into a vector; a layer to calculate the attention energy per encoder output; a RNN layer; and an output layer.\n",
      "\n",
      "The decoder's inputs are the last RNN hidden state $s_{i-1}$, last output $y_{i-1}$, and all encoder outputs $h_*$.\n",
      "\n",
      "* embedding layer with inputs $y_{i-1}$\n",
      "    * `embedded = embedding(last_rnn_output)`\n",
      "* attention layer $a$ with inputs $(s_{i-1}, h_j)$ and outputs $e_{ij}$, normalized to create $a_{ij}$\n",
      "    * `attn_energies[j] = attn_layer(last_hidden, encoder_outputs[j])`\n",
      "    * `attn_weights = normalize(attn_energies)`\n",
      "* context vector $c_i$ as an attention-weighted average of encoder outputs\n",
      "    * `context = sum(attn_weights * encoder_outputs)`\n",
      "* RNN layer(s) $f$ with inputs $(s_{i-1}, y_{i-1}, c_i)$ and internal hidden state, outputting $s_i$\n",
      "    * `rnn_input = concat(embedded, context)`\n",
      "    * `rnn_output, rnn_hidden = rnn(rnn_input, last_hidden)`\n",
      "* an output layer $g$ with inputs $(y_{i-1}, s_i, c_i)$, outputting $y_i$\n",
      "    * `output = out(embedded, rnn_output, context)`"
     ]
    },
    {
     "cell_type": "code",
     "collapsed": true,
     "input": [
      "class BahdanauAttnDecoderRNN(nn.Module):\n",
      "    def __init__(self, hidden_size, output_size, n_layers=1, dropout_p=0.1):\n",
      "        super(AttnDecoderRNN, self).__init__()\n",
      "        \n",
      "        # Define parameters\n",
      "        self.hidden_size = hidden_size\n",
      "        self.output_size = output_size\n",
      "        self.n_layers = n_layers\n",
      "        self.dropout_p = dropout_p\n",
      "        self.max_length = max_length\n",
      "        \n",
      "        # Define layers\n",
      "        self.embedding = nn.Embedding(output_size, hidden_size)\n",
      "        self.dropout = nn.Dropout(dropout_p)\n",
      "        self.attn = GeneralAttn(hidden_size)\n",
      "        self.gru = nn.GRU(hidden_size * 2, hidden_size, n_layers, dropout=dropout_p)\n",
      "        self.out = nn.Linear(hidden_size, output_size)\n",
      "    \n",
      "    def forward(self, word_input, last_hidden, encoder_outputs):\n",
      "        # Note that we will only be running forward for a single decoder time step, but will use all encoder outputs\n",
      "        \n",
      "        # Get the embedding of the current input word (last output word)\n",
      "        word_embedded = self.embedding(word_input).view(1, 1, -1) # S=1 x B x N\n",
      "        word_embedded = self.dropout(word_embedded)\n",
      "        \n",
      "        # Calculate attention weights and apply to encoder outputs\n",
      "        attn_weights = self.attn(last_hidden[-1], encoder_outputs)\n",
      "        context = attn_weights.bmm(encoder_outputs.transpose(0, 1)) # B x 1 x N\n",
      "        \n",
      "        # Combine embedded input word and attended context, run through RNN\n",
      "        rnn_input = torch.cat((word_embedded, context), 2)\n",
      "        output, hidden = self.gru(rnn_input, last_hidden)\n",
      "        \n",
      "        # Final output layer\n",
      "        output = output.squeeze(0) # B x N\n",
      "        output = F.log_softmax(self.out(torch.cat((output, context), 1)))\n",
      "        \n",
      "        # Return final output, hidden state, and attention weights (for visualization)\n",
      "        return output, hidden, attn_weights"
     ],
     "language": "python",
     "metadata": {},
     "outputs": [],
     "prompt_number": 28
    },
    {
     "cell_type": "heading",
     "level": 3,
     "metadata": {},
     "source": [
      "Interpreting the Luong et al. model(s)"
     ]
    },
    {
     "cell_type": "markdown",
     "metadata": {},
     "source": [
      "[Effective Approaches to Attention-based Neural Machine Translation](https://arxiv.org/abs/1508.04025) by Luong et al. describe a few more attention models that offer improvements and simplifications. They describe a few \"global attention\" models, the distinction between them being the way the attention scores are calculated.\n",
      "\n",
      "The general form of the attention calculation relies on the target (decoder) side hidden state and corresponding source (encoder) side state, normalized over all states to get values summing to 1:\n",
      "\n",
      "$$\n",
      "a_t(s) = align(h_t, \\bar h_s)  = \\dfrac{exp(score(h_t, \\bar h_s))}{\\sum_{s'} exp(score(h_t, \\bar h_{s'}))}\n",
      "$$\n",
      "\n",
      "The specific \"score\" function that compares two states is either *dot*, a simple dot product between the states; *general*, a a dot product between the decoder hidden state and a linear transform of the encoder state; or *concat*, a dot product between a new parameter $v_a$ and a linear transform of the states concatenated together.\n",
      "\n",
      "$$\n",
      "score(h_t, \\bar h_s) =\n",
      "\\begin{cases}\n",
      "h_t ^\\top \\bar h_s & dot \\\\\n",
      "h_t ^\\top \\textbf{W}_a \\bar h_s & general \\\\\n",
      "v_a ^\\top \\textbf{W}_a [ h_t ; \\bar h_s ] & concat\n",
      "\\end{cases}\n",
      "$$\n",
      "\n",
      "The modular definition of these scoring functions gives us an opportunity to build specific attention module that can switch between the different score methods. The input to this module is always the hidden state (of the decoder RNN) and set of encoder outputs."
     ]
    },
    {
     "cell_type": "code",
     "collapsed": true,
     "input": [
      "class Attn(nn.Module):\n",
      "    def __init__(self, method, hidden_size, max_length=200):\n",
      "        super(Attn, self).__init__()\n",
      "        \n",
      "        self.method = method\n",
      "        self.hidden_size = hidden_size\n",
      "        \n",
      "        if self.method == 'general':\n",
      "            self.attn = nn.Linear(self.hidden_size, hidden_size)\n",
      "\n",
      "        elif self.method == 'concat':\n",
      "            self.attn = nn.Linear(self.hidden_size * 2, hidden_size)\n",
      "            self.other = nn.Parameter(torch.FloatTensor(1, hidden_size))\n",
      "\n",
      "    def forward(self, hidden, encoder_outputs):\n",
      "        seq_len = len(encoder_outputs)\n",
      "\n",
      "        # Create variable to store attention energies\n",
      "        attn_energies = Variable(torch.zeros(seq_len)) # B x 1 x S\n",
      "        if USE_CUDA: attn_energies = attn_energies.cuda()\n",
      "\n",
      "        # Calculate energies for each encoder output\n",
      "        for i in range(seq_len):\n",
      "            attn_energies[i] = self.score(hidden, encoder_outputs[i])\n",
      "\n",
      "        # Normalize energies to weights in range 0 to 1, resize to 1 x 1 x seq_len\n",
      "        return F.softmax(attn_energies, dim=0).unsqueeze(0).unsqueeze(0)\n",
      "    \n",
      "    def score(self, hidden, encoder_output):\n",
      "        \n",
      "        if self.method == 'dot':\n",
      "            energy = torch.dot(hidden.view(-1), energy.view(-1))\n",
      "            return energy\n",
      "        \n",
      "        elif self.method == 'general':\n",
      "            energy = self.attn(encoder_output)\n",
      "            energy = torch.dot(hidden.view(-1), energy.view(-1))\n",
      "            return energy\n",
      "        \n",
      "        elif self.method == 'concat':\n",
      "            energy = self.attn(torch.cat((hidden, encoder_output), 1))\n",
      "            energy = torch.dot(self.other.view(-1), energy.view(-1))\n",
      "            return energy"
     ],
     "language": "python",
     "metadata": {},
     "outputs": [],
     "prompt_number": 39
    },
    {
     "cell_type": "markdown",
     "metadata": {},
     "source": [
      "Now we can build a decoder that plugs this Attn module in after the RNN to calculate attention weights, and apply those weights to the encoder outputs to get a context vector."
     ]
    },
    {
     "cell_type": "code",
     "collapsed": true,
     "input": [
      "class AttnDecoderRNN(nn.Module):\n",
      "    def __init__(self, attn_model, hidden_size, output_size, n_layers=1, dropout_p=0.1):\n",
      "        super(AttnDecoderRNN, self).__init__()\n",
      "        \n",
      "        # Keep parameters for reference\n",
      "        self.attn_model = attn_model\n",
      "        self.hidden_size = hidden_size\n",
      "        self.output_size = output_size\n",
      "        self.n_layers = n_layers\n",
      "        self.dropout_p = dropout_p\n",
      "        \n",
      "        # Define layers\n",
      "        self.embedding = nn.Embedding(output_size, hidden_size)\n",
      "        self.gru = nn.GRU(hidden_size * 2, hidden_size, n_layers, dropout=dropout_p)\n",
      "        self.out = nn.Linear(hidden_size * 2, output_size)\n",
      "        \n",
      "        # Choose attention model\n",
      "        if attn_model != 'none':\n",
      "            self.attn = Attn(attn_model, hidden_size)\n",
      "    \n",
      "    def forward(self, word_input, last_context, last_hidden, encoder_outputs):\n",
      "        # Note: we run this one step at a time\n",
      "        \n",
      "        # Get the embedding of the current input word (last output word)\n",
      "        word_embedded = self.embedding(word_input).view(1, 1, -1) # S=1 x B x N\n",
      "        \n",
      "        # Combine embedded input word and last context, run through RNN\n",
      "        rnn_input = torch.cat((word_embedded, last_context.unsqueeze(0)), 2)\n",
      "        rnn_output, hidden = self.gru(rnn_input, last_hidden)\n",
      "\n",
      "        # Calculate attention from current RNN state and all encoder outputs; apply to encoder outputs\n",
      "        attn_weights = self.attn(rnn_output.squeeze(0), encoder_outputs)\n",
      "        context = attn_weights.bmm(encoder_outputs.transpose(0, 1)) # B x 1 x N\n",
      "        \n",
      "        # Final output layer (next word prediction) using the RNN hidden state and context vector\n",
      "        rnn_output = rnn_output.squeeze(0) # S=1 x B x N -> B x N\n",
      "        context = context.squeeze(1)       # B x S=1 x N -> B x N\n",
      "        print(self.out(torch.cat((rnn_output, context), 1)))\n",
      "        output = F.log_softmax(self.out(torch.cat((rnn_output, context), 1)))\n",
      "        \n",
      "        # Return final output, hidden state, and attention weights (for visualization)\n",
      "        return output, context, hidden, attn_weights"
     ],
     "language": "python",
     "metadata": {},
     "outputs": [],
     "prompt_number": 40
    },
    {
     "cell_type": "markdown",
     "metadata": {},
     "source": [
      "### Testing the models\n",
      "\n",
      "To make sure the Encoder and Decoder model are working (and working together) we'll do a quick test with fake word inputs:"
     ]
    },
    {
     "cell_type": "code",
     "collapsed": false,
     "input": [
      "encoder_test = EncoderRNN(10, 10, 2)\n",
      "# The Bahdanau (2015) model is the 'concat' case of the Luong (2015) model.\n",
      "# Since the latter is already implemented, we use it directly\n",
      "decoder_test = AttnDecoderRNN('concat', 10, 10, 2)\n",
      "\n",
      "print(encoder_test)\n",
      "print(decoder_test)\n",
      "\n",
      "encoder_hidden = encoder_test.init_hidden()\n",
      "word_input = Variable(torch.LongTensor([1, 2, 3]))\n",
      "\n",
      "# if torch.cuda.device_count() > 1:\n",
      "#     encoder_test = nn.DataParallel(encoder_test)\n",
      "\n",
      "if USE_CUDA:\n",
      "    encoder_test.cuda()\n",
      "    word_input = word_input.cuda()\n",
      "encoder_outputs, encoder_hidden = encoder_test(word_input, encoder_hidden)\n",
      "\n",
      "word_inputs = Variable(torch.LongTensor([1, 2, 3, 4, 5, 6, 7]))\n",
      "decoder_attns = torch.zeros(1, 3, 3)\n",
      "decoder_hidden = encoder_hidden\n",
      "decoder_context = Variable(torch.zeros(1, decoder_test.hidden_size))\n",
      "\n",
      "# if torch.cuda.device_count() > 1:\n",
      "#     decoder_test = nn.DataParallel(decoder_test)\n",
      "\n",
      "if USE_CUDA:\n",
      "    decoder_test.cuda()\n",
      "    word_inputs = word_inputs.cuda()\n",
      "    decoder_context = decoder_context.cuda()\n",
      "    \n",
      "\n",
      "for i in range(3):\n",
      "    decoder_output, decoder_context, decoder_hidden, decoder_attn = decoder_test(word_inputs[i], decoder_context, \n",
      "                                                                                 decoder_hidden, \n",
      "                                                                                 encoder_outputs)\n",
      "    print(decoder_output.size(), decoder_hidden.size(), decoder_attn.size())\n",
      "    decoder_attns[0, i] = decoder_attn.squeeze(0).cpu().data\n",
      "    \n",
      "    "
     ],
     "language": "python",
     "metadata": {
      "scrolled": false
     },
     "outputs": [
      {
       "output_type": "stream",
       "stream": "stdout",
       "text": [
        "EncoderRNN(\n",
        "  (embedding): Embedding(10, 10)\n",
        "  (gru): GRU(10, 10, num_layers=2)\n",
        ")\n",
        "AttnDecoderRNN(\n",
        "  (embedding): Embedding(10, 10)\n",
        "  (gru): GRU(20, 10, num_layers=2, dropout=0.1)\n",
        "  (out): Linear(in_features=20, out_features=10)\n",
        "  (attn): Attn(\n",
        "    (attn): Linear(in_features=20, out_features=10)\n",
        "  )\n",
        ")\n",
        "Variable containing:\n",
        " 0.2282  0.1237  0.2128 -0.0853 -0.0509 -0.0424  0.2955 -0.1160  0.1776 -0.0067\n",
        "[torch.FloatTensor of size 1x10]\n",
        "\n",
        "torch.Size([1, 10]) torch.Size([2, 1, 10]) torch.Size([1, 1, 3])\n",
        "Variable containing:\n",
        " 0.2144  0.1110  0.1608 -0.1341  0.0976  0.1092  0.2763 -0.0776  0.1262 -0.0097\n",
        "[torch.FloatTensor of size 1x10]\n",
        "\n",
        "torch.Size([1, 10]) torch.Size([2, 1, 10]) torch.Size([1, 1, 3])\n",
        "Variable containing:\n",
        " 0.2159  0.1548  0.1329 -0.1130  0.0661  0.1420  0.3158 -0.0634  0.0898  0.0525\n",
        "[torch.FloatTensor of size 1x10]\n",
        "\n",
        "torch.Size([1, 10]) torch.Size([2, 1, 10]) torch.Size([1, 1, 3])\n"
       ]
      }
     ],
     "prompt_number": 42
    },
    {
     "cell_type": "markdown",
     "metadata": {},
     "source": [
      "# Training\n",
      "\n",
      "## Defining a training iteration\n",
      "\n",
      "To train we first run the input sentence through the encoder word by word, and keep track of every output and the latest hidden state. Next the decoder is given the last hidden state of the decoder as its first hidden state, and the `<SOS>` token as its first input. From there we iterate to predict a next token from the decoder.\n",
      "\n",
      "### Teacher Forcing and Scheduled Sampling\n",
      "\n",
      "\"Teacher Forcing\", or maximum likelihood sampling, means using the real target outputs as each next input when training. The alternative is using the decoder's own guess as the next input. Using teacher forcing may cause the network to converge faster, but [when the trained network is exploited, it may exhibit instability](http://minds.jacobs-university.de/sites/default/files/uploads/papers/ESNTutorialRev.pdf).\n",
      "\n",
      "You can observe outputs of teacher-forced networks that read with coherent grammar but wander far from the correct translation - you could think of it as having learned how to listen to the teacher's instructions, without learning how to venture out on its own.\n",
      "\n",
      "The solution to the teacher-forcing \"problem\" is known as [Scheduled Sampling](https://arxiv.org/abs/1506.03099), which simply alternates between using the target values and predicted values when training. We will randomly choose to use teacher forcing with an if statement while training - sometimes we'll feed use real target as the input (ignoring the decoder's output), sometimes we'll use the decoder's output."
     ]
    },
    {
     "cell_type": "code",
     "collapsed": true,
     "input": [
      "teacher_forcing_ratio = 0.5\n",
      "clip = 5.0\n",
      "\n",
      "def train(input_variable, target_variable, encoder, decoder, encoder_optimizer, decoder_optimizer, criterion):\n",
      "\n",
      "    # Zero gradients of both optimizers\n",
      "    encoder_optimizer.zero_grad()\n",
      "    decoder_optimizer.zero_grad()\n",
      "    loss = 0 # Added onto for each word\n",
      "\n",
      "    # Get size of input and target sentences\n",
      "    input_length = input_variable.size()[0]\n",
      "    target_length = target_variable.size()[0]\n",
      "\n",
      "    # Run words through encoder\n",
      "    encoder_hidden = encoder.init_hidden()\n",
      "    encoder_outputs, encoder_hidden = encoder(input_variable, encoder_hidden)\n",
      "    \n",
      "    # Prepare input and output variables\n",
      "    decoder_input = Variable(torch.LongTensor([[SOS_token]]))\n",
      "    decoder_context = Variable(torch.zeros(1, decoder.hidden_size))\n",
      "    decoder_hidden = encoder_hidden # Use last hidden state from encoder to start decoder\n",
      "    if USE_CUDA:\n",
      "        decoder_input = decoder_input.cuda()\n",
      "        decoder_context = decoder_context.cuda()\n",
      "\n",
      "    # Choose whether to use teacher forcing\n",
      "    use_teacher_forcing = random.random() < teacher_forcing_ratio\n",
      "    if use_teacher_forcing:\n",
      "        \n",
      "        # Teacher forcing: Use the ground-truth target as the next input\n",
      "        for di in range(target_length):\n",
      "            decoder_output, decoder_context, decoder_hidden, decoder_attention = decoder(decoder_input, decoder_context, \n",
      "                                                                                         decoder_hidden, encoder_outputs)\n",
      "            \n",
      "            ###########################################\n",
      "            # print(decoder_output.size(), target_variable[di].size())\n",
      "            \n",
      "            loss += criterion(decoder_output, target_variable[di])\n",
      "            decoder_input = target_variable[di] # Next target is next input\n",
      "\n",
      "    else:\n",
      "        # Without teacher forcing: use network's own prediction as the next input\n",
      "        for di in range(target_length):\n",
      "            decoder_output, decoder_context, decoder_hidden, decoder_attention = decoder(decoder_input, decoder_context, decoder_hidden, encoder_outputs)\n",
      "            #print(criterion(decoder_output[0], \n",
      "            #                target_variable[di]).size())\n",
      "            \n",
      "            ###########################################\n",
      "            # print(decoder_output.size(), target_variable[di].size())\n",
      "            loss += criterion(decoder_output, target_variable[di])\n",
      "            \n",
      "            # Get most likely word index (highest value) from output\n",
      "            topv, topi = decoder_output.data.topk(1)\n",
      "            ni = topi[0][0]\n",
      "            \n",
      "            decoder_input = Variable(torch.LongTensor([[ni]])) # Chosen word is next input\n",
      "            if USE_CUDA: decoder_input = decoder_input.cuda()\n",
      "\n",
      "            # Stop at end of sentence (not necessary when using known targets)\n",
      "            if ni == EOS_token: break\n",
      "\n",
      "    # Backpropagation\n",
      "    loss.backward()\n",
      "    torch.nn.utils.clip_grad_norm(encoder.parameters(), clip)\n",
      "    torch.nn.utils.clip_grad_norm(decoder.parameters(), clip)\n",
      "    encoder_optimizer.step()\n",
      "    decoder_optimizer.step()\n",
      "    \n",
      "    return loss.data[0] / target_length"
     ],
     "language": "python",
     "metadata": {},
     "outputs": [],
     "prompt_number": 14
    },
    {
     "cell_type": "markdown",
     "metadata": {},
     "source": [
      "Finally helper functions to print time elapsed and estimated time remaining, given the current time and progress."
     ]
    },
    {
     "cell_type": "code",
     "collapsed": true,
     "input": [
      "def as_minutes(s):\n",
      "    m = math.floor(s / 60)\n",
      "    s -= m * 60\n",
      "    return '%dm %ds' % (m, s)\n",
      "\n",
      "def time_since(since, percent):\n",
      "    now = time.time()\n",
      "    s = now - since\n",
      "    es = s / (percent)\n",
      "    rs = es - s\n",
      "    return '%s (- %s)' % (as_minutes(s), as_minutes(rs))"
     ],
     "language": "python",
     "metadata": {},
     "outputs": [],
     "prompt_number": 15
    },
    {
     "cell_type": "markdown",
     "metadata": {},
     "source": [
      "## Running training\n",
      "\n",
      "With everything in place we can actually initialize a network and start training.\n",
      "\n",
      "To start, we initialize models, optimizers, and a loss function (criterion)."
     ]
    },
    {
     "cell_type": "code",
     "collapsed": true,
     "input": [
      "attn_model = 'general'\n",
      "hidden_size = 500\n",
      "n_layers = 2\n",
      "dropout_p = 0.05\n",
      "\n",
      "# Initialize models\n",
      "encoder = EncoderRNN(voc.n_words, hidden_size, n_layers)\n",
      "decoder = AttnDecoderRNN(attn_model, hidden_size, voc.n_words, n_layers, dropout_p=dropout_p)\n",
      "\n",
      "# Move models to GPU\n",
      "if USE_CUDA:\n",
      "    encoder.cuda()\n",
      "    decoder.cuda()\n",
      "\n",
      "# Initialize optimizers and criterion\n",
      "learning_rate = 0.0001\n",
      "encoder_optimizer = optim.Adam(encoder.parameters(), lr=learning_rate)\n",
      "decoder_optimizer = optim.Adam(decoder.parameters(), lr=learning_rate)\n",
      "criterion = nn.NLLLoss()"
     ],
     "language": "python",
     "metadata": {},
     "outputs": [],
     "prompt_number": 16
    },
    {
     "cell_type": "markdown",
     "metadata": {},
     "source": [
      "Then set up variables for plotting and tracking progress:"
     ]
    },
    {
     "cell_type": "code",
     "collapsed": true,
     "input": [
      "# Configuring training\n",
      "n_epochs = 500000\n",
      "plot_every = 20\n",
      "print_every = 100\n",
      "\n",
      "# Keep track of time elapsed and running averages\n",
      "start = time.time()\n",
      "plot_losses = []\n",
      "print_loss_total = 0 # Reset every print_every\n",
      "plot_loss_total = 0 # Reset every plot_every"
     ],
     "language": "python",
     "metadata": {},
     "outputs": [],
     "prompt_number": 19
    },
    {
     "cell_type": "markdown",
     "metadata": {},
     "source": [
      "To actually train, we call the train function many times, printing a summary as we go.\n",
      "\n",
      "*Note:* If you run this notebook you can train, interrupt the kernel, evaluate, and continue training later. You can comment out the lines above where the encoder and decoder are initialized (so they aren't reset) or simply run the notebook starting from the following cell."
     ]
    },
    {
     "cell_type": "code",
     "collapsed": false,
     "input": [
      "# Begin!\n",
      "for epoch in range(1, n_epochs + 1):\n",
      "    \n",
      "    # Get training data for this cycle\n",
      "    training_pair = variables_from_pair(random.choice(pairs))\n",
      "    input_variable = training_pair[0]\n",
      "    target_variable = training_pair[1]\n",
      "\n",
      "    # Run the train function\n",
      "    loss = train(input_variable, target_variable, encoder, \n",
      "                 decoder, encoder_optimizer, \n",
      "                 decoder_optimizer, \n",
      "                 criterion)\n",
      "\n",
      "    # Keep track of loss\n",
      "    print_loss_total += loss\n",
      "    plot_loss_total += loss\n",
      "\n",
      "    if epoch == 0: continue\n",
      "\n",
      "    if epoch % print_every == 0:\n",
      "        print_loss_avg = print_loss_total / print_every\n",
      "        print_loss_total = 0\n",
      "        print_summary = '%s (%d %d%%) %.4f' % (time_since(start, epoch / n_epochs), epoch, epoch / n_epochs * 100, print_loss_avg)\n",
      "        print(print_summary)\n",
      "\n",
      "    if epoch % plot_every == 0:\n",
      "        plot_loss_avg = plot_loss_total / plot_every\n",
      "        plot_losses.append(plot_loss_avg)\n",
      "        plot_loss_total = 0"
     ],
     "language": "python",
     "metadata": {
      "scrolled": false
     },
     "outputs": [
      {
       "output_type": "stream",
       "stream": "stdout",
       "text": [
        "2m 56s (- 14676m 33s) (100 0%) 7.9028\n",
        "5m 50s (- 14597m 51s) (200 0%) 6.5945\n",
        "8m 44s (- 14556m 52s) (300 0%) 6.5047\n",
        "11m 15s (- 14065m 46s) (400 0%) 6.1675\n",
        "14m 2s (- 14029m 17s) (500 0%) 6.2864\n",
        "16m 57s (- 14109m 42s) (600 0%) 6.4799\n",
        "19m 26s (- 13872m 36s) (700 0%) 5.9083\n",
        "22m 2s (- 13756m 0s) (800 0%) 6.2341\n",
        "24m 38s (- 13664m 17s) (900 0%) 5.9091\n",
        "27m 10s (- 13561m 52s) (1000 0%) 5.8391\n",
        "29m 42s (- 13476m 3s) (1100 0%) 5.7597\n",
        "32m 11s (- 13381m 32s) (1200 0%) 6.1437\n"
       ]
      }
     ],
     "prompt_number": null
    },
    {
     "cell_type": "markdown",
     "metadata": {},
     "source": [
      "## Plotting training loss\n",
      "\n",
      "Plotting is done with matplotlib, using the array `plot_losses` that was created while training."
     ]
    },
    {
     "cell_type": "code",
     "collapsed": false,
     "input": [
      "import matplotlib.pyplot as plt\n",
      "import matplotlib.ticker as ticker\n",
      "import numpy as np\n",
      "%matplotlib inline\n",
      "\n",
      "def show_plot(points):\n",
      "    plt.figure()\n",
      "    fig, ax = plt.subplots()\n",
      "    loc = ticker.MultipleLocator(base=0.2) # put ticks at regular intervals\n",
      "    ax.yaxis.set_major_locator(loc)\n",
      "    plt.plot(points)\n",
      "\n",
      "show_plot(plot_losses)"
     ],
     "language": "python",
     "metadata": {},
     "outputs": [],
     "prompt_number": null
    },
    {
     "cell_type": "markdown",
     "metadata": {},
     "source": [
      "# Evaluating the network\n",
      "\n",
      "Evaluation is mostly the same as training, but there are no targets. Instead we always feed the decoder's predictions back to itself. Every time it predicts a word, we add it to the output string. If it predicts the EOS token we stop there. We also store the decoder's attention outputs for each step to display later."
     ]
    },
    {
     "cell_type": "code",
     "collapsed": true,
     "input": [
      "def evaluate(sentence, max_length=200):\n",
      "    input_variable = variable_from_sentence(voc, sentence)\n",
      "    input_length = input_variable.size()[0]\n",
      "    \n",
      "    # Run through encoder\n",
      "    encoder_hidden = encoder.init_hidden()\n",
      "    encoder_outputs, encoder_hidden = encoder(input_variable, encoder_hidden)\n",
      "\n",
      "    # Create starting vectors for decoder\n",
      "    decoder_input = Variable(torch.LongTensor([[SOS_token]])) # SOS\n",
      "    decoder_context = Variable(torch.zeros(1, decoder.hidden_size))\n",
      "    if USE_CUDA:\n",
      "        decoder_input = decoder_input.cuda()\n",
      "        decoder_context = decoder_context.cuda()\n",
      "\n",
      "    decoder_hidden = encoder_hidden\n",
      "    \n",
      "    decoded_words = []\n",
      "    decoder_attentions = torch.zeros(max_length, max_length)\n",
      "    \n",
      "    # Run through decoder\n",
      "    for di in range(max_length):\n",
      "        decoder_output, decoder_context, decoder_hidden, decoder_attention = decoder(decoder_input, decoder_context, decoder_hidden, encoder_outputs)\n",
      "        decoder_attentions[di,:decoder_attention.size(2)] += decoder_attention.squeeze(0).squeeze(0).cpu().data\n",
      "\n",
      "        # Choose top word from output\n",
      "        topv, topi = decoder_output.data.topk(1)\n",
      "        ni = topi[0][0]\n",
      "        if ni == EOS_token:\n",
      "            decoded_words.append('<EOS>')\n",
      "            break\n",
      "        else:\n",
      "            decoded_words.append(voc.index2word[ni])\n",
      "            \n",
      "        # Next input is chosen word\n",
      "        decoder_input = Variable(torch.LongTensor([[ni]]))\n",
      "        if USE_CUDA: decoder_input = decoder_input.cuda()\n",
      "    \n",
      "    return decoded_words, decoder_attentions[:di+1, :len(encoder_outputs)]"
     ],
     "language": "python",
     "metadata": {},
     "outputs": [],
     "prompt_number": null
    },
    {
     "cell_type": "markdown",
     "metadata": {},
     "source": [
      "We can evaluate random sentences from the training set and print out the input, target, and output to make some subjective quality judgements:"
     ]
    },
    {
     "cell_type": "code",
     "collapsed": true,
     "input": [
      "def evaluate_randomly():\n",
      "    pair = random.choice(pairs)\n",
      "    \n",
      "    output_words, decoder_attn = evaluate(pair[0])\n",
      "    output_sentence = ' '.join(output_words)\n",
      "    \n",
      "    print('>', pair[0])\n",
      "    print('=', pair[1])\n",
      "    print('<', output_sentence)\n",
      "    print('')"
     ],
     "language": "python",
     "metadata": {},
     "outputs": [],
     "prompt_number": null
    },
    {
     "cell_type": "code",
     "collapsed": false,
     "input": [
      "evaluate_randomly()"
     ],
     "language": "python",
     "metadata": {
      "scrolled": false
     },
     "outputs": [],
     "prompt_number": null
    },
    {
     "cell_type": "markdown",
     "metadata": {},
     "source": [
      "# Visualizing attention\n",
      "\n",
      "A useful property of the attention mechanism is its highly interpretable outputs. Because it is used to weight specific encoder outputs of the input sequence, we can imagine looking where the network is focused most at each time step.\n",
      "\n",
      "You could simply run `plt.matshow(attentions)` to see attention output displayed as a matrix, with the columns being input steps and rows being output steps:"
     ]
    },
    {
     "cell_type": "code",
     "collapsed": false,
     "input": [
      "output_words, attentions = evaluate(\"house speaker newt gingrich who orchestrated the republican revolution of recent years and is overseeing the impeachment inquiry into president clinton was driven from office friday by a party that swiftly turned on him after its unexpected losses in tuesday s midterm elections .\")\n",
      "plt.matshow(attentions.numpy())"
     ],
     "language": "python",
     "metadata": {},
     "outputs": [],
     "prompt_number": null
    },
    {
     "cell_type": "markdown",
     "metadata": {},
     "source": [
      "For a better viewing experience we will do the extra work of adding axes and labels:"
     ]
    },
    {
     "cell_type": "code",
     "collapsed": true,
     "input": [
      "def show_attention(input_sentence, output_words, attentions):\n",
      "    # Set up figure with colorbar\n",
      "    fig = plt.figure()\n",
      "    ax = fig.add_subplot(111)\n",
      "    cax = ax.matshow(attentions.numpy(), cmap='bone')\n",
      "    fig.colorbar(cax)\n",
      "\n",
      "    # Set up axes\n",
      "    ax.set_xticklabels([''] + input_sentence.split(' ') + ['<EOS>'], rotation=90)\n",
      "    ax.set_yticklabels([''] + output_words)\n",
      "\n",
      "    # Show label at every tick\n",
      "    ax.xaxis.set_major_locator(ticker.MultipleLocator(1))\n",
      "    ax.yaxis.set_major_locator(ticker.MultipleLocator(1))\n",
      "\n",
      "    plt.show()\n",
      "    plt.close()\n",
      "\n",
      "def evaluate_and_show_attention(input_sentence):\n",
      "    output_words, attentions = evaluate(input_sentence)\n",
      "    print('input =', input_sentence)\n",
      "    print('output =', ' '.join(output_words))\n",
      "    show_attention(input_sentence, output_words, attentions)"
     ],
     "language": "python",
     "metadata": {},
     "outputs": [],
     "prompt_number": null
    },
    {
     "cell_type": "code",
     "collapsed": false,
     "input": [
      "evaluate_and_show_attention(\"a south korean lawmaker said friday communist north korea could be producing plutonium and could have more secret underground nuclear facilities than already feared .\")"
     ],
     "language": "python",
     "metadata": {},
     "outputs": [],
     "prompt_number": null
    },
    {
     "cell_type": "code",
     "collapsed": false,
     "input": [
      "evaluate_and_show_attention(\"egyptian president hosni mubarak met here sunday with syrian president hafez assad to try to defuse growing tension between syria and turkey .\")"
     ],
     "language": "python",
     "metadata": {},
     "outputs": [],
     "prompt_number": null
    },
    {
     "cell_type": "code",
     "collapsed": false,
     "input": [
      "evaluate_and_show_attention(\"police and soldiers on friday blocked off the street in front of a house where members of a terrorist gang are believed to have assembled the bomb that blew up the u .s . embassy killing people .\")"
     ],
     "language": "python",
     "metadata": {},
     "outputs": [],
     "prompt_number": null
    },
    {
     "cell_type": "code",
     "collapsed": false,
     "input": [
      "evaluate_and_show_attention(\"premier battled tuesday for any votes freed up from a split in a far left party but said he will resign if he loses a confidence vote expected later this week .\")"
     ],
     "language": "python",
     "metadata": {},
     "outputs": [],
     "prompt_number": null
    },
    {
     "cell_type": "markdown",
     "metadata": {
      "collapsed": true
     },
     "source": [
      "# To do\n",
      "\n",
      "* Try with a different dataset\n",
      "    * cnn/dailymail\n",
      "    * gigawords\n",
      "    * standford\n",
      "    * Human &rarr; Machine (e.g. IOT commands)\n",
      "    * Chat &rarr; Response\n",
      "    * Question &rarr; Answer\n",
      "* Replace the embedding pre-trained word embeddings such as word2vec or GloVe\n",
      "* Try with more layers, more hidden units, and more sentences. Compare the training time and results.\n",
      "* Try different RNN layers like lstm.\n",
      "* Add batch operation for GPU training\n",
      "* Add beam search on decoder side when dealing with long documents.\n",
      "* Control the Different output size\n",
      "* Dig out other tricks"
     ]
    },
    {
     "cell_type": "code",
     "collapsed": true,
     "input": [],
     "language": "python",
     "metadata": {},
     "outputs": [],
     "prompt_number": null
    }
   ],
   "metadata": {}
  }
 ]
}
