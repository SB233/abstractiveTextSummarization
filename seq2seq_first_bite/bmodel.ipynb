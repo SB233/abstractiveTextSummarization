{
 "metadata": {
  "anaconda-cloud": {},
  "kernelspec": {
   "display_name": "Python 3",
   "language": "python",
   "name": "python3"
  },
  "language_info": {
   "codemirror_mode": {
    "name": "ipython",
    "version": 3
   },
   "file_extension": ".py",
   "mimetype": "text/x-python",
   "name": "python",
   "nbconvert_exporter": "python",
   "pygments_lexer": "ipython3",
   "version": "3.6.3"
  },
  "name": "",
  "signature": "sha256:2dcad44b491efb2c7dae769f170056fa9710c63b70a086db08bae2e28b78bcb8"
 },
 "nbformat": 3,
 "nbformat_minor": 0,
 "worksheets": [
  {
   "cells": [
    {
     "cell_type": "markdown",
     "metadata": {},
     "source": [
      "![](https://i.imgur.com/eBRPvWB.png)\n",
      "\n",
      "# Bahdanau Model\n",
      "\n",
      "Implementation of RNN sequence-to-sequence model from Bahdanau et al. as a basis for more sophisticated models such as reinforced, hierarchical-attention, or topic-focused summarization.\n",
      "\n",
      "**Note**: We use the CNN/Dailymail dataset from [@JafferWilson](https://github.com/JafferWilson/Process-Data-of-CNN-DailyMail)'s Github account. "
     ]
    },
    {
     "cell_type": "markdown",
     "metadata": {},
     "source": [
      "# The Sequence to Sequence model\n",
      "\n",
      "A [Sequence to Sequence network](http://arxiv.org/abs/1409.3215), or seq2seq network, or [Encoder Decoder network](https://arxiv.org/pdf/1406.1078v3.pdf), is a model consisting of two separate RNNs called the **encoder** and **decoder**. The encoder reads an input sequence one item at a time, and outputs a vector at each step. The final output of the encoder is kept as the **context** vector. The decoder uses this context vector to produce a sequence of outputs one step at a time.\n",
      "\n",
      "![](https://i.imgur.com/tVtHhNp.png)"
     ]
    },
    {
     "cell_type": "markdown",
     "metadata": {},
     "source": [
      "## The Attention Mechanism\n",
      "\n",
      "The fixed-length vector carries the burden of encoding the the entire \"meaning\" of the input sequence, no matter how long that may be. With all the variance in language, this is a very hard problem. Imagine two nearly identical sentences, twenty words long, with only one word different. Both the encoders and decoders must be nuanced enough to represent that change as a very slightly different point in space.\n",
      "\n",
      "The **attention mechanism** [introduced by Bahdanau et al.](https://arxiv.org/abs/1409.0473) addresses this by giving the decoder a way to \"pay attention\" to parts of the input, rather than relying on a single vector. For every step the decoder can select a different part of the input sentence to consider.\n",
      "\n",
      "![](https://i.imgur.com/5y6SCvU.png)\n",
      "\n",
      "Attention is calculated with another feedforward layer in the decoder. This layer will use the current input and hidden state to create a new vector, which is the same size as the input sequence (in practice, a fixed maximum length). This vector is processed through softmax to create *attention weights*, which are multiplied by the encoders' outputs to create a new context vector, which is then used to predict the next output.\n",
      "\n",
      "![](https://i.imgur.com/K1qMPxs.png)"
     ]
    },
    {
     "cell_type": "markdown",
     "metadata": {},
     "source": [
      "# Requirements\n",
      "\n",
      "You will need [PyTorch](http://pytorch.org/) to build and train the models, and [matplotlib](https://matplotlib.org/) for plotting training and visualizing attention outputs later."
     ]
    },
    {
     "cell_type": "code",
     "collapsed": true,
     "input": [
      "import unicodedata\n",
      "import string\n",
      "import re\n",
      "import random\n",
      "import time\n",
      "import math\n",
      "import csv\n",
      "import heapq\n",
      "\n",
      "import torch\n",
      "import torch.nn as nn\n",
      "from torch.autograd import Variable\n",
      "from torch import optim\n",
      "import torch.nn.functional as F\n",
      "\n",
      "import os\n",
      "os.environ[\"CUDA_DEVICE_ORDER\"]=\"PCI_BUS_ID\"   # see issue #152\n",
      "os.environ[\"CUDA_VISIBLE_DEVICES\"]=\"6,7\"\n"
     ],
     "language": "python",
     "metadata": {},
     "outputs": [],
     "prompt_number": 7
    },
    {
     "cell_type": "markdown",
     "metadata": {},
     "source": [
      "Here we will also define a constant to decide whether to use the GPU (with CUDA specifically) or the CPU. **If you don't have a GPU, set this to `False`**. Later when we create tensors, this variable will be used to decide whether we keep them on CPU or move them to GPU."
     ]
    },
    {
     "cell_type": "code",
     "collapsed": true,
     "input": [
      "USE_CUDA = False"
     ],
     "language": "python",
     "metadata": {},
     "outputs": [],
     "prompt_number": 2
    },
    {
     "cell_type": "markdown",
     "metadata": {},
     "source": [
      "# Loading Data Files\n",
      "\n",
      "Similar to the character encoding used in the character-level RNN tutorials, we will be representing each word in a language as a one-hot vector, or giant vector of zeros except for a single one (at the index of the word). Compared to the dozens of characters that might exist in a language, there are many many more words, so the encoding vector is much larger. We will however cheat a bit and trim the data to only use a few thousand words per language. On other tutorials,  they adopt an initial embedding matrix built from [GloVe](http://nlp.stanford.edu/projects/glove/), which can be tested afterwards."
     ]
    },
    {
     "cell_type": "markdown",
     "metadata": {},
     "source": [
      "### Indexing words\n",
      "\n",
      "We'll need a unique index per word to use as the inputs and targets of the networks later. To keep track of all this we will use a helper class called `Voc` which has word &rarr; index (`word2index`) and index &rarr; word (`index2word`) dictionaries, as well as a count of each word `word2count` to use to later replace rare words."
     ]
    },
    {
     "cell_type": "code",
     "collapsed": true,
     "input": [
      "SOS_token = 0\n",
      "EOS_token = 1\n",
      "OOV_token = 2\n",
      "vocab_size = 5000\n",
      "\n",
      "class Voc:\n",
      "    def __init__(self, name):\n",
      "        self.name = name\n",
      "        self.word2index = {}\n",
      "        self.word2count = {}\n",
      "        self.index2word = {0: \"SOS\", 1: \"EOS\", 2: \"OOV\"}\n",
      "        self.n_words = 3 # Count SOS and EOS\n",
      "      \n",
      "    def index_words(self, sentence):\n",
      "        for word in sentence.split(' '):\n",
      "            self.index_word(word)\n",
      "\n",
      "    def index_word(self, word):\n",
      "        if word not in self.word2index:\n",
      "            self.word2index[word] = self.n_words\n",
      "            self.word2count[word] = 1\n",
      "            self.index2word[self.n_words] = word\n",
      "            self.n_words += 1\n",
      "        else:\n",
      "            self.word2count[word] += 1\n",
      "            \n",
      "    def prune(self, count):\n",
      "        if count >= self.n_words - 3: return\n",
      "        top_words = heapq.nlargest(count, self.word2count.items(), key=lambda x:x[1])\n",
      "        self.word2count = dict(top_words)\n",
      "        self.word2index = dict(zip([word[0] for word in top_words], range(3, count + 4)))\n",
      "        self.index2word = dict(zip(range(3, count + 4), [word[0] for word in top_words]))\n",
      "        self.index2word[0] = \"SOS\"\n",
      "        self.index2word[1] = \"EOS\"\n",
      "        self.index2word[2] = \"OOV\"\n",
      "        self.n_words = count + 3"
     ],
     "language": "python",
     "metadata": {},
     "outputs": [],
     "prompt_number": 3
    },
    {
     "cell_type": "markdown",
     "metadata": {},
     "source": [
      "### Reading and decoding files\n",
      "\n",
      "The files are all in Unicode, to simplify we will turn Unicode characters to ASCII, make everything lowercase, and trim most punctuation."
     ]
    },
    {
     "cell_type": "code",
     "collapsed": true,
     "input": [
      "# Turn a Unicode string to plain ASCII, thanks to http://stackoverflow.com/a/518232/2809427\n",
      "def unicode_to_ascii(s):\n",
      "    return ''.join(\n",
      "        c for c in unicodedata.normalize('NFD', s)\n",
      "        if unicodedata.category(c) != 'Mn'\n",
      "    )\n",
      "\n",
      "# Lowercase, trim, and remove non-letter characters\n",
      "def normalize_string(s):\n",
      "    s = unicode_to_ascii(s.lower().strip())\n",
      "    s = re.sub(r\"([.!?])\", r\" \\1\", s)\n",
      "    s = re.sub(r\"[^a-zA-Z.!?]+\", r\" \", s)\n",
      "    return s"
     ],
     "language": "python",
     "metadata": {},
     "outputs": [],
     "prompt_number": 4
    },
    {
     "cell_type": "markdown",
     "metadata": {},
     "source": [
      "To read the data file we will split the file into lines, and then split lines into pairs. The files are all description &rarr; headline, so if we want to generate text from headline &rarr; description I added the `reverse` flag to reverse the pairs."
     ]
    },
    {
     "cell_type": "code",
     "collapsed": false,
     "input": [
      "def read_stories(pathname, reverse=False, num_files=1000):\n",
      "    print(\"Reading stories from dataset...\")\n",
      "    \n",
      "    # Get the first num_files file names\n",
      "    files = os.listdir('../data/%s' % pathname)[:num_files]\n",
      "    \n",
      "    # Boolean flag for summary sentences\n",
      "    summary_next = False\n",
      "    \n",
      "    # Read each file and extract vocab\n",
      "    pairs = []\n",
      "    for filename in files:\n",
      "        with open('../data/%s/%s' % (pathname, filename), 'r') as story_file:\n",
      "            story = ''\n",
      "            summary = ''\n",
      "            for line in story_file:\n",
      "                if line == '\\n': continue # ignore blank lines\n",
      "                if line == '@highlight\\n': summary_next = True\n",
      "                else:\n",
      "                    if summary_next: summary += line\n",
      "                    else: story += line\n",
      "                    summary_next = False\n",
      "            pairs.append([normalize_string(story), normalize_string(summary)])\n",
      "            \n",
      "    # Reverse pairs, make Lang instances (not supported)\n",
      "    if reverse:\n",
      "        pairs = [list(reversed(p)) for p in pairs]\n",
      "    voc = Voc(pathname)\n",
      "\n",
      "    return voc, pairs"
     ],
     "language": "python",
     "metadata": {},
     "outputs": [],
     "prompt_number": 5
    },
    {
     "cell_type": "markdown",
     "metadata": {},
     "source": [
      "## Preparing Data\n",
      "Following is the main pre-processing function. Reads some articles and generates article-summary pairs and a comprehensive vocabulary from the articles."
     ]
    },
    {
     "cell_type": "code",
     "collapsed": false,
     "input": [
      "def prepare_data(pathname, reverse=False):\n",
      "    voc, pairs = read_stories(pathname, reverse)\n",
      "    print(\"Read %s article-summary pairs\" % len(pairs))\n",
      "\n",
      "    print(\"Indexing words...\")\n",
      "    for pair in pairs:\n",
      "        voc.index_words(pair[0])\n",
      "        voc.index_words(pair[1])\n",
      "    print(\"    found %d words\" % voc.n_words)\n",
      "\n",
      "    return voc, pairs\n",
      "\n",
      "voc, pairs = prepare_data('dm_stories_tokenized', False)\n",
      "voc.prune(vocab_size)\n",
      "\n",
      "pair = random.choice(pairs)\n",
      "print(pair[0]+'\\n')\n",
      "print(pair[1])"
     ],
     "language": "python",
     "metadata": {},
     "outputs": [
      {
       "output_type": "stream",
       "stream": "stdout",
       "text": [
        "Reading stories from dataset...\n",
        "Read 1000 article-summary pairs"
       ]
      },
      {
       "output_type": "stream",
       "stream": "stdout",
       "text": [
        "\n",
        "Indexing words...\n",
        "    found 30847 words"
       ]
      },
      {
       "output_type": "stream",
       "stream": "stdout",
       "text": [
        "\n",
        "ahead of the latest round of champions league action sportsmail will provide you with all you need to know with team news provisional squads betting odds and opta stats . here is all the information you need for liverpool s visit to basle . anderlecht vs arsenal constant vanden stock stadium kick off wednesday . pm sky sports odds lrb subject to change rrb anderlecht draw arsenal managers besnik hasi lrb anderlecht rrb arsene wenger lrb anderlecht rrb head to head record anderlecht wins draws arsenal wins team news with injuries decimating the arsenal squad arsene wenger has a few selection headaches particularly in defence ahead of this match with anderlecht as the gunners look to build on their win over galatasary . starting in goal is expected to be the very inexperienced emiliano martinez . the year old comes into the team after the suspension to no wojciech szczesny sent off against the turks while david ospina is out with a thigh injury . calum chambers returns from his own suspension and could replace either hector bellerin at right back or nacho monreal at centre back . laurent koskielny is still suffering with an achillles problem . jack wilshere and aaron ramsey should both take their place in the gunners midfield but theo walcott is unlikely to feature as he continues his return from long term injury . lukas podolski has recovered from illness . anderlecht meanwhile are missing defender fabrice n sakala . jack wilshere lrb centre rrb looks to have shaken off an injury while calum chambers lrb r rrb returns from suspension theo walcott lrb left rrb is unlikely to feature as he builds up his fitness but lukas podolski lrb right rrb is well again key match stats lrb supplied by opta rrb anderlecht and arsenal have faced each off only twice in european competition that was in the final of the inter cities fairs cup . these two matches ended with one win for each team but arsenal lifted the trophy by winning on aggregate . there have been previous meetings between arsenal and belgian sides the gunners have lost only three times lrb w d rrb . the gunners have won each of their last five against teams from belgium . anderlecht suffered their worst loss in europe against an english side against manchester united in the european cup preliminary round in anderlecht manager besnik hasi lrb centre facing rrb addresses his team ahead of the clash with arsenal silvio proto lrb left rrb sacha kljestan lrb centre rrb and olivier deschacht lrb right rrb warm up during a training session the gunners joint biggest win in europe came against a belgian team beating standard liege in the cup winners cup in . arsenal have found the net only once in their last four away games in european competition including qualifying . anderlecht s last win in europe came november lrb against zenit st . petersburg rrb with seven losses and three draws since . the belgians have conceded in each of these matches . per game on average . only one of the last six anderlecht s champions league goals has been netted by a striker .\n",
        "\n",
        "goalkeeper emiliano martinez comes into the starting xi no wojciech szczesny is suspended while david ospina is injured calum chambers returns from suspension jack wilshere expected to shake off injury he suffered in hull game arsenal are second in group d with three points while anderlecht have just one point\n"
       ]
      }
     ],
     "prompt_number": 8
    },
    {
     "cell_type": "markdown",
     "metadata": {},
     "source": [
      "## Turning training data into Tensors/Variables\n",
      "\n",
      "To train we need to turn the sentences into something the neural network can understand, which of course means numbers. Each sentence will be split into words and turned into a Tensor, where each word is replaced with the index (from the Lang indexes made earlier). While creating these tensors we will also append the EOS token to signal that the sentence is over.\n",
      "\n",
      "![](https://i.imgur.com/LzocpGH.png)\n",
      "\n",
      "A Tensor is a multi-dimensional array of numbers, defined with some type e.g. FloatTensor or LongTensor. In this case we'll be using LongTensor to represent an array of integer indexes.\n",
      "\n",
      "Trainable PyTorch modules take Variables as input, rather than plain Tensors. A Variable is basically a Tensor that is able to keep track of the graph state, which is what makes autograd (automatic calculation of backwards gradients) possible."
     ]
    },
    {
     "cell_type": "code",
     "collapsed": true,
     "input": [
      "# Return a list of indexes, one for each word in the sentence\n",
      "def indexes_from_sentence(voc, sentence):\n",
      "    indexes = []\n",
      "    for word in sentence.split(' '):\n",
      "        if word in voc.word2index: indexes.append(voc.word2index[word])\n",
      "        else: indexes.append(OOV_token)\n",
      "    return indexes\n",
      "\n",
      "def variable_from_sentence(voc, sentence):\n",
      "    indexes = indexes_from_sentence(voc, sentence)\n",
      "    indexes.append(EOS_token)\n",
      "    var = Variable(torch.LongTensor(indexes).view(-1, 1))\n",
      "#     print('var =', var)\n",
      "    if USE_CUDA: var = var.cuda()\n",
      "    return var\n",
      "\n",
      "def variables_from_pair(pair):\n",
      "    input_variable = variable_from_sentence(voc, pair[0])\n",
      "    target_variable = variable_from_sentence(voc, pair[1])\n",
      "    return (input_variable, target_variable)"
     ],
     "language": "python",
     "metadata": {},
     "outputs": [],
     "prompt_number": 10
    },
    {
     "cell_type": "heading",
     "level": 1,
     "metadata": {},
     "source": [
      "Building the models"
     ]
    },
    {
     "cell_type": "markdown",
     "metadata": {},
     "source": [
      "## The Encoder\n",
      "\n",
      "<img src=\"images/encoder-network.png\" style=\"float: right\" />\n",
      "\n",
      "The encoder of a seq2seq network is a RNN that outputs some value for every word from the input sentence. For every input word the encoder outputs a vector and a hidden state, and uses the hidden state for the next input word."
     ]
    },
    {
     "cell_type": "code",
     "collapsed": true,
     "input": [
      "class EncoderRNN(nn.Module):\n",
      "    def __init__(self, input_size, hidden_size, n_layers=1):\n",
      "        super(EncoderRNN, self).__init__()\n",
      "        \n",
      "        self.input_size = input_size\n",
      "        self.hidden_size = hidden_size\n",
      "        self.n_layers = n_layers\n",
      "        \n",
      "        self.embedding = nn.Embedding(input_size, hidden_size)\n",
      "        self.gru = nn.GRU(hidden_size, hidden_size, n_layers)\n",
      "        \n",
      "    def forward(self, word_inputs, hidden):\n",
      "        # Note: we run this all at once (over the whole input sequence)\n",
      "        seq_len = len(word_inputs)\n",
      "        embedded = self.embedding(word_inputs).view(seq_len, 1, -1)\n",
      "        output, hidden = self.gru(embedded, hidden)\n",
      "        return output, hidden\n",
      "\n",
      "    def init_hidden(self):\n",
      "        hidden = Variable(torch.zeros(self.n_layers, 1, self.hidden_size))\n",
      "        if USE_CUDA: hidden = hidden.cuda()\n",
      "        return hidden"
     ],
     "language": "python",
     "metadata": {},
     "outputs": [],
     "prompt_number": 11
    },
    {
     "cell_type": "heading",
     "level": 2,
     "metadata": {},
     "source": [
      "Attention Decoder"
     ]
    },
    {
     "cell_type": "markdown",
     "metadata": {},
     "source": [
      "### Interpreting the Bahdanau et al. model\n",
      "\n",
      "The attention model in [Neural Machine Translation by Jointly Learning to Align and Translate](https://arxiv.org/abs/1409.0473) is described as the following series of equations.\n",
      "\n",
      "Each decoder output is conditioned on the previous outputs and some $\\mathbf x$, where $\\mathbf x$ consists of the current hidden state (which takes into account previous outputs) and the attention \"context\", which is calculated below. The function $g$ is a fully-connected layer with a nonlinear activation, which takes as input the values $y_{i-1}$, $s_i$, and $c_i$ concatenated.\n",
      "\n",
      "$$\n",
      "p(y_i \\mid \\{y_1,...,y_{i-1}\\},\\mathbf{x}) = g(y_{i-1}, s_i, c_i)\n",
      "$$\n",
      "\n",
      "The current hidden state $s_i$ is calculated by an RNN $f$ with the last hidden state $s_{i-1}$, last decoder output value $y_{i-1}$, and context vector $c_i$.\n",
      "\n",
      "In the code, the RNN will be a `nn.GRU` layer, the hidden state $s_i$ will be called `hidden`, the output $y_i$ called `output`, and context $c_i$ called `context`.\n",
      "\n",
      "$$\n",
      "s_i = f(s_{i-1}, y_{i-1}, c_i)\n",
      "$$\n",
      "\n",
      "The context vector $c_i$ is a weighted sum of all encoder outputs, where each weight $a_{ij}$ is the amount of \"attention\" paid to the corresponding encoder output $h_j$.\n",
      "\n",
      "$$\n",
      "c_i = \\sum_{j=1}^{T_x} a_{ij} h_j\n",
      "$$\n",
      "\n",
      "... where each weight $a_{ij}$ is a normalized (over all steps) attention \"energy\" $e_{ij}$ ...\n",
      "\n",
      "$$\n",
      "a_{ij} = \\dfrac{exp(e_{ij})}{\\sum_{k=1}^{T} exp(e_{ik})}\n",
      "$$\n",
      "\n",
      "... where each attention energy is calculated with some function $a$ (such as another linear layer) using the last hidden state $s_{i-1}$ and that particular encoder output $h_j$:\n",
      "\n",
      "$$\n",
      "e_{ij} = a(s_{i-1}, h_j)\n",
      "$$"
     ]
    },
    {
     "cell_type": "markdown",
     "metadata": {},
     "source": [
      "### Implementing the Bahdanau et al. model\n",
      "\n",
      "In summary our decoder should consist of four main parts - an embedding layer turning an input word into a vector; a layer to calculate the attention energy per encoder output; a RNN layer; and an output layer.\n",
      "\n",
      "The decoder's inputs are the last RNN hidden state $s_{i-1}$, last output $y_{i-1}$, and all encoder outputs $h_*$.\n",
      "\n",
      "* embedding layer with inputs $y_{i-1}$\n",
      "    * `embedded = embedding(last_rnn_output)`\n",
      "* attention layer $a$ with inputs $(s_{i-1}, h_j)$ and outputs $e_{ij}$, normalized to create $a_{ij}$\n",
      "    * `attn_energies[j] = attn_layer(last_hidden, encoder_outputs[j])`\n",
      "    * `attn_weights = normalize(attn_energies)`\n",
      "* context vector $c_i$ as an attention-weighted average of encoder outputs\n",
      "    * `context = sum(attn_weights * encoder_outputs)`\n",
      "* RNN layer(s) $f$ with inputs $(s_{i-1}, y_{i-1}, c_i)$ and internal hidden state, outputting $s_i$\n",
      "    * `rnn_input = concat(embedded, context)`\n",
      "    * `rnn_output, rnn_hidden = rnn(rnn_input, last_hidden)`\n",
      "* an output layer $g$ with inputs $(y_{i-1}, s_i, c_i)$, outputting $y_i$\n",
      "    * `output = out(embedded, rnn_output, context)`"
     ]
    },
    {
     "cell_type": "code",
     "collapsed": true,
     "input": [
      "class BahdanauAttnDecoderRNN(nn.Module):\n",
      "    def __init__(self, hidden_size, output_size, n_layers=1, dropout_p=0.1):\n",
      "        super(BahdanauAttnDecoderRNN, self).__init__()\n",
      "        \n",
      "        # Define parameters\n",
      "        self.hidden_size = hidden_size\n",
      "        self.output_size = output_size\n",
      "        self.n_layers = n_layers\n",
      "        self.dropout_p = dropout_p\n",
      "        \n",
      "        # Define layers\n",
      "        self.embedding = nn.Embedding(output_size, hidden_size)\n",
      "        self.dropout = nn.Dropout(dropout_p)\n",
      "        self.attn = Attn('concat', hidden_size)\n",
      "        self.gru = nn.GRU(hidden_size * 2, hidden_size, n_layers, dropout=dropout_p)\n",
      "        self.out = nn.Linear(hidden_size * 2, output_size)\n",
      "    \n",
      "    def forward(self, word_input, last_hidden, encoder_outputs):\n",
      "        # Note that we will only be running forward for a single decoder time step, but will use all encoder outputs\n",
      "        \n",
      "        # Get the embedding of the current input word (last output word)\n",
      "        word_embedded = self.embedding(word_input).view(1, 1, -1) # S=1 x B x N\n",
      "        word_embedded = self.dropout(word_embedded)\n",
      "        \n",
      "        # Calculate attention weights and apply to encoder outputs\n",
      "        attn_weights = self.attn(last_hidden[-1], encoder_outputs)\n",
      "        context = attn_weights.bmm(encoder_outputs.transpose(0, 1)) # B x 1 x N\n",
      "        \n",
      "        # Combine embedded input word and attended context, run through RNN\n",
      "        rnn_input = torch.cat((word_embedded, context), 2)\n",
      "        output, hidden = self.gru(rnn_input, last_hidden)\n",
      "        \n",
      "        # Final output layer\n",
      "        output = output.squeeze(0) # B x N\n",
      "        context = context.squeeze(0) # B x N\n",
      "\n",
      "        output = F.log_softmax(self.out(torch.cat((output, context), 1)))\n",
      "        \n",
      "        # Return final output, hidden state, and attention weights (for visualization)\n",
      "        return output, hidden, attn_weights"
     ],
     "language": "python",
     "metadata": {},
     "outputs": [],
     "prompt_number": 12
    },
    {
     "cell_type": "heading",
     "level": 3,
     "metadata": {},
     "source": [
      "Interpreting the Luong et al. model(s)"
     ]
    },
    {
     "cell_type": "markdown",
     "metadata": {},
     "source": [
      "[Effective Approaches to Attention-based Neural Machine Translation](https://arxiv.org/abs/1508.04025) by Luong et al. describe a few more attention models that offer improvements and simplifications. They describe a few \"global attention\" models, the distinction between them being the way the attention scores are calculated.\n",
      "\n",
      "The general form of the attention calculation relies on the target (decoder) side hidden state and corresponding source (encoder) side state, normalized over all states to get values summing to 1:\n",
      "\n",
      "$$\n",
      "a_t(s) = align(h_t, \\bar h_s)  = \\dfrac{exp(score(h_t, \\bar h_s))}{\\sum_{s'} exp(score(h_t, \\bar h_{s'}))}\n",
      "$$\n",
      "\n",
      "The specific \"score\" function that compares two states is either *dot*, a simple dot product between the states; *general*, a a dot product between the decoder hidden state and a linear transform of the encoder state; or *concat*, a dot product between a new parameter $v_a$ and a linear transform of the states concatenated together.\n",
      "\n",
      "$$\n",
      "score(h_t, \\bar h_s) =\n",
      "\\begin{cases}\n",
      "h_t ^\\top \\bar h_s & dot \\\\\n",
      "h_t ^\\top \\textbf{W}_a \\bar h_s & general \\\\\n",
      "v_a ^\\top \\textbf{W}_a [ h_t ; \\bar h_s ] & concat\n",
      "\\end{cases}\n",
      "$$\n",
      "\n",
      "The modular definition of these scoring functions gives us an opportunity to build specific attention module that can switch between the different score methods. The input to this module is always the hidden state (of the decoder RNN) and set of encoder outputs."
     ]
    },
    {
     "cell_type": "code",
     "collapsed": true,
     "input": [
      "class Attn(nn.Module):\n",
      "    def __init__(self, method, hidden_size):\n",
      "        super(Attn, self).__init__()\n",
      "        \n",
      "        self.method = method\n",
      "        self.hidden_size = hidden_size\n",
      "        \n",
      "        if self.method == 'general':\n",
      "            self.attn = nn.Linear(self.hidden_size, hidden_size)\n",
      "\n",
      "        elif self.method == 'concat':\n",
      "            self.attn = nn.Linear(self.hidden_size * 2, hidden_size)\n",
      "            self.other = nn.Parameter(torch.FloatTensor(1, hidden_size))\n",
      "\n",
      "    def forward(self, hidden, encoder_outputs):\n",
      "        seq_len = len(encoder_outputs)\n",
      "\n",
      "        # Create variable to store attention energies\n",
      "        attn_energies = Variable(torch.zeros(seq_len)) # B x 1 x S\n",
      "        if USE_CUDA: attn_energies = attn_energies.cuda()\n",
      "\n",
      "        # Calculate energies for each encoder output\n",
      "        for i in range(seq_len):\n",
      "            attn_energies[i] = self.score(hidden, encoder_outputs[i])\n",
      "\n",
      "        # Normalize energies to weights in range 0 to 1, resize to 1 x 1 x seq_len\n",
      "        return F.softmax(attn_energies).unsqueeze(0).unsqueeze(0)\n",
      "    \n",
      "    def score(self, hidden, encoder_output):\n",
      "        \n",
      "        if self.method == 'dot':\n",
      "            energy = torch.dot(hidden.view(-1), energy.view(-1))\n",
      "            return energy\n",
      "        \n",
      "        elif self.method == 'general':\n",
      "            energy = self.attn(encoder_output)\n",
      "            energy = torch.dot(hidden.view(-1), energy.view(-1))\n",
      "            return energy\n",
      "        \n",
      "        elif self.method == 'concat':\n",
      "            energy = self.attn(torch.cat((hidden, encoder_output), 1))\n",
      "            energy = torch.dot(self.other.view(-1), energy.view(-1))\n",
      "            return energy"
     ],
     "language": "python",
     "metadata": {},
     "outputs": [],
     "prompt_number": 13
    },
    {
     "cell_type": "markdown",
     "metadata": {},
     "source": [
      "Now we can build a decoder that plugs this Attn module in after the RNN to calculate attention weights, and apply those weights to the encoder outputs to get a context vector."
     ]
    },
    {
     "cell_type": "markdown",
     "metadata": {},
     "source": [
      "### Testing the models\n",
      "\n",
      "To make sure the Encoder and Decoder model are working (and working together) we'll do a quick test with fake word inputs:"
     ]
    },
    {
     "cell_type": "code",
     "collapsed": false,
     "input": [
      "encoder_test = EncoderRNN(10, 10, 2)\n",
      "decoder_test = BahdanauAttnDecoderRNN(10, 10, 2)\n",
      "print(encoder_test)\n",
      "print(decoder_test)\n",
      "\n",
      "encoder_hidden = encoder_test.init_hidden()\n",
      "word_input = Variable(torch.LongTensor([1, 2, 3]))\n",
      "\n",
      "# if torch.cuda.device_count() > 1:\n",
      "#     encoder_test = nn.DataParallel(encoder_test)\n",
      "\n",
      "if USE_CUDA:\n",
      "    encoder_test.cuda()\n",
      "    word_input = word_input.cuda()\n",
      "encoder_outputs, encoder_hidden = encoder_test(word_input, encoder_hidden)\n",
      "\n",
      "word_inputs = Variable(torch.LongTensor([1, 2, 3]))\n",
      "decoder_attns = torch.zeros(1, 3, 3)\n",
      "decoder_hidden = encoder_hidden\n",
      "decoder_context = Variable(torch.zeros(1, decoder_test.hidden_size))\n",
      "\n",
      "# if torch.cuda.device_count() > 1:\n",
      "#     decoder_test = nn.DataParallel(decoder_test)\n",
      "\n",
      "if USE_CUDA:\n",
      "    decoder_test.cuda()\n",
      "    word_inputs = word_inputs.cuda()\n",
      "    decoder_context = decoder_context.cuda()\n",
      "    \n",
      "\n",
      "for i in range(3):\n",
      "    #def forward(self, word_input, last_hidden, encoder_outputs):\n",
      "    decoder_output, decoder_hidden, decoder_attn = decoder_test(word_inputs[i], \n",
      "                                                                                 decoder_hidden, \n",
      "                                                                                 encoder_outputs)\n",
      "    print(decoder_output.size(), decoder_hidden.size(), decoder_attn.size())\n",
      "    decoder_attns[0, i] = decoder_attn.squeeze(0).cpu().data\n",
      "    \n",
      "    "
     ],
     "language": "python",
     "metadata": {
      "scrolled": false
     },
     "outputs": [
      {
       "output_type": "stream",
       "stream": "stdout",
       "text": [
        "EncoderRNN(\n",
        "  (embedding): Embedding(10, 10)\n",
        "  (gru): GRU(10, 10, num_layers=2)\n",
        ")\n",
        "BahdanauAttnDecoderRNN(\n",
        "  (embedding): Embedding(10, 10)\n",
        "  (dropout): Dropout(p=0.1)\n",
        "  (attn): Attn(\n",
        "    (attn): Linear(in_features=20, out_features=10)\n",
        "  )\n",
        "  (gru): GRU(20, 10, num_layers=2, dropout=0.1)\n",
        "  (out): Linear(in_features=20, out_features=10)\n",
        ")\n",
        "torch.Size([1, 10])"
       ]
      },
      {
       "output_type": "stream",
       "stream": "stdout",
       "text": [
        " torch.Size([2, 1, 10]) torch.Size([1, 1, 3])\n",
        "torch.Size([1, 10]) torch.Size([2, 1, 10]) torch.Size([1, 1, 3])\n",
        "torch.Size([1, 10]) torch.Size([2, 1, 10]) torch.Size([1, 1, 3])\n"
       ]
      },
      {
       "output_type": "stream",
       "stream": "stderr",
       "text": [
        "-c:27: UserWarning: Implicit dimension choice for softmax has been deprecated. Change the call to include dim=X as an argument.\n",
        "-c:37: UserWarning: Implicit dimension choice for log_softmax has been deprecated. Change the call to include dim=X as an argument.\n"
       ]
      }
     ],
     "prompt_number": 14
    },
    {
     "cell_type": "code",
     "collapsed": false,
     "input": [
      "a = torch.zeros(1,10)\n",
      "b = torch.zeros(1,10)\n",
      "torch.cat((a,b), dim=1)"
     ],
     "language": "python",
     "metadata": {},
     "outputs": [
      {
       "metadata": {},
       "output_type": "pyout",
       "prompt_number": 15,
       "text": [
        "\n",
        "\n",
        "Columns 0 to 12 \n",
        "    0     0     0     0     0     0     0     0     0     0     0     0     0\n",
        "\n",
        "Columns 13 to 19 \n",
        "    0     0     0     0     0     0     0\n",
        "[torch.FloatTensor of size 1x20]"
       ]
      }
     ],
     "prompt_number": 15
    },
    {
     "cell_type": "markdown",
     "metadata": {},
     "source": [
      "# Training\n",
      "\n",
      "## Defining a training iteration\n",
      "\n",
      "To train we first run the input sentence through the encoder word by word, and keep track of every output and the latest hidden state. Next the decoder is given the last hidden state of the decoder as its first hidden state, and the `<SOS>` token as its first input. From there we iterate to predict a next token from the decoder.\n",
      "\n",
      "### Teacher Forcing and Scheduled Sampling\n",
      "\n",
      "\"Teacher Forcing\", or maximum likelihood sampling, means using the real target outputs as each next input when training. The alternative is using the decoder's own guess as the next input. Using teacher forcing may cause the network to converge faster, but [when the trained network is exploited, it may exhibit instability](http://minds.jacobs-university.de/sites/default/files/uploads/papers/ESNTutorialRev.pdf).\n",
      "\n",
      "You can observe outputs of teacher-forced networks that read with coherent grammar but wander far from the correct translation - you could think of it as having learned how to listen to the teacher's instructions, without learning how to venture out on its own.\n",
      "\n",
      "The solution to the teacher-forcing \"problem\" is known as [Scheduled Sampling](https://arxiv.org/abs/1506.03099), which simply alternates between using the target values and predicted values when training. We will randomly choose to use teacher forcing with an if statement while training - sometimes we'll feed use real target as the input (ignoring the decoder's output), sometimes we'll use the decoder's output."
     ]
    },
    {
     "cell_type": "code",
     "collapsed": false,
     "input": [
      "print(voc.n_words)"
     ],
     "language": "python",
     "metadata": {},
     "outputs": [
      {
       "output_type": "stream",
       "stream": "stdout",
       "text": [
        "5003\n"
       ]
      }
     ],
     "prompt_number": 16
    },
    {
     "cell_type": "code",
     "collapsed": true,
     "input": [
      "teacher_forcing_ratio = 0.5\n",
      "clip = 5.0\n",
      "\n",
      "def train(input_variable, target_variable, encoder, decoder, encoder_optimizer, decoder_optimizer, criterion):\n",
      "\n",
      "    # Zero gradients of both optimizers\n",
      "    encoder_optimizer.zero_grad()\n",
      "    decoder_optimizer.zero_grad()\n",
      "    loss = 0 # Added onto for each word\n",
      "\n",
      "    # Get size of input and target sentences\n",
      "    input_length = input_variable.size()[0]\n",
      "    target_length = target_variable.size()[0]\n",
      "\n",
      "    # Run words through encoder\n",
      "    encoder_hidden = encoder.init_hidden()\n",
      "    encoder_outputs, encoder_hidden = encoder(input_variable, encoder_hidden)\n",
      "    \n",
      "    # Prepare input and output variables\n",
      "    decoder_input = Variable(torch.LongTensor([[SOS_token]]))\n",
      "    decoder_context = Variable(torch.zeros(1, decoder.hidden_size))\n",
      "    decoder_hidden = encoder_hidden # Use last hidden state from encoder to start decoder\n",
      "    if USE_CUDA:\n",
      "        decoder_input = decoder_input.cuda()\n",
      "        decoder_context = decoder_context.cuda()\n",
      "\n",
      "    # Choose whether to use teacher forcing\n",
      "    use_teacher_forcing = random.random() < teacher_forcing_ratio\n",
      "    if use_teacher_forcing:\n",
      "        \n",
      "        # Teacher forcing: Use the ground-truth target as the next input\n",
      "        for di in range(target_length):\n",
      "            decoder_output, decoder_hidden, decoder_attention = decoder(decoder_input, \n",
      "                                                                            decoder_hidden, encoder_outputs)\n",
      "            ###########################################\n",
      "            # print(decoder_output.size(), target_variable[di].size())\n",
      "            \n",
      "            loss += criterion(decoder_output, target_variable[di])\n",
      "            decoder_input = target_variable[di] # Next target is next input\n",
      "            print(\"generated: \", decoder_output, \"target: \", target_variable[di])            \n",
      "\n",
      "    else:\n",
      "        # Without teacher forcing: use network's own prediction as the next input\n",
      "        for di in range(target_length):\n",
      "            decoder_output, decoder_hidden, decoder_attention = decoder(decoder_input, decoder_hidden, encoder_outputs)\n",
      "            #print(criterion(decoder_output[0], \n",
      "            #                target_variable[di]).size())\n",
      "            \n",
      "            ###########################################\n",
      "            # print(decoder_output.size(), target_variable[di].size())\n",
      "            loss += criterion(decoder_output, target_variable[di])\n",
      "            print(\"generated: \", decoder_output, \"target: \", target_variable[di])            \n",
      "            \n",
      "            # Get most likely word index (highest value) from output\n",
      "            topv, topi = decoder_output.data.topk(1)\n",
      "            ni = topi[0][0]\n",
      "            \n",
      "            decoder_input = Variable(torch.LongTensor([[ni]])) # Chosen word is next input\n",
      "            if USE_CUDA: decoder_input = decoder_input.cuda()\n",
      "\n",
      "            # Stop at end of sentence (not necessary when using known targets)\n",
      "            if ni == EOS_token: break\n",
      "    \n",
      "    # Backpropagation\n",
      "    loss.backward()\n",
      "    torch.nn.utils.clip_grad_norm(encoder.parameters(), clip)\n",
      "    torch.nn.utils.clip_grad_norm(decoder.parameters(), clip)\n",
      "    encoder_optimizer.step()\n",
      "    decoder_optimizer.step()\n",
      "    \n",
      "    return loss.data[0] / target_length"
     ],
     "language": "python",
     "metadata": {},
     "outputs": [],
     "prompt_number": 17
    },
    {
     "cell_type": "markdown",
     "metadata": {},
     "source": [
      "Finally helper functions to print time elapsed and estimated time remaining, given the current time and progress."
     ]
    },
    {
     "cell_type": "code",
     "collapsed": true,
     "input": [
      "def as_minutes(s):\n",
      "    m = math.floor(s / 60)\n",
      "    s -= m * 60\n",
      "    return '%dm %ds' % (m, s)\n",
      "\n",
      "def time_since(since, percent):\n",
      "    now = time.time()\n",
      "    s = now - since\n",
      "    es = s / (percent)\n",
      "    rs = es - s\n",
      "    return '%s (- %s)' % (as_minutes(s), as_minutes(rs))"
     ],
     "language": "python",
     "metadata": {},
     "outputs": [],
     "prompt_number": 18
    },
    {
     "cell_type": "markdown",
     "metadata": {},
     "source": [
      "## Running training\n",
      "\n",
      "With everything in place we can actually initialize a network and start training.\n",
      "\n",
      "To start, we initialize models, optimizers, and a loss function (criterion)."
     ]
    },
    {
     "cell_type": "code",
     "collapsed": false,
     "input": [
      "attn_model = 'general'\n",
      "hidden_size = 500\n",
      "n_layers = 2\n",
      "dropout_p = 0.05\n",
      "\n",
      "# Initialize models\n",
      "encoder = EncoderRNN(voc.n_words, hidden_size, n_layers)\n",
      "decoder = BahdanauAttnDecoderRNN(hidden_size, voc.n_words, n_layers, dropout_p=dropout_p)\n",
      "\n",
      "# Move models to GPU\n",
      "if USE_CUDA:\n",
      "    encoder.cuda()\n",
      "    decoder.cuda()\n",
      "\n",
      "# Initialize optimizers and criterion\n",
      "learning_rate = 0.0001\n",
      "encoder_optimizer = optim.Adam(encoder.parameters(), lr=learning_rate)\n",
      "decoder_optimizer = optim.Adam(decoder.parameters(), lr=learning_rate)\n",
      "criterion = nn.NLLLoss()"
     ],
     "language": "python",
     "metadata": {},
     "outputs": [],
     "prompt_number": 19
    },
    {
     "cell_type": "markdown",
     "metadata": {},
     "source": [
      "Then set up variables for plotting and tracking progress:"
     ]
    },
    {
     "cell_type": "code",
     "collapsed": true,
     "input": [
      "# Configuring training\n",
      "n_epochs = 500\n",
      "plot_every = 10\n",
      "print_every = 1\n",
      "\n",
      "# Keep track of time elapsed and running averages\n",
      "start = time.time()\n",
      "plot_losses = []\n",
      "print_loss_total = 0 # Reset every print_every\n",
      "plot_loss_total = 0 # Reset every plot_every"
     ],
     "language": "python",
     "metadata": {},
     "outputs": []
    },
    {
     "cell_type": "markdown",
     "metadata": {},
     "source": [
      "To actually train, we call the train function many times, printing a summary as we go.\n",
      "\n",
      "*Note:* If you run this notebook you can train, interrupt the kernel, evaluate, and continue training later. You can comment out the lines above where the encoder and decoder are initialized (so they aren't reset) or simply run the notebook starting from the following cell."
     ]
    },
    {
     "cell_type": "code",
     "collapsed": true,
     "input": [
      "# Begin!\n",
      "for epoch in range(1, n_epochs + 1):\n",
      "    \n",
      "    # Get training data for this cycle\n",
      "    training_pair = variables_from_pair(random.choice(pairs))\n",
      "    input_variable = training_pair[0]\n",
      "    target_variable = training_pair[1]\n",
      "\n",
      "    # Run the train function\n",
      "    loss = train(input_variable, target_variable, encoder, \n",
      "                 decoder, encoder_optimizer, \n",
      "                 decoder_optimizer, \n",
      "                 criterion)\n",
      "\n",
      "    # Keep track of loss\n",
      "    print_loss_total += loss\n",
      "    plot_loss_total += loss\n",
      "\n",
      "    if epoch == 0: continue\n",
      "\n",
      "    if epoch % print_every == 0:\n",
      "        print_loss_avg = print_loss_total / print_every\n",
      "        print_loss_total = 0\n",
      "        print_summary = '%s (%d %d%%) %.4f' % (time_since(start, epoch / n_epochs), epoch, epoch / n_epochs * 100, print_loss_avg)\n",
      "        print(print_summary)\n",
      "\n",
      "    if epoch % plot_every == 0:\n",
      "        plot_loss_avg = plot_loss_total / plot_every\n",
      "        plot_losses.append(plot_loss_avg)\n",
      "        plot_loss_total = 0"
     ],
     "language": "python",
     "metadata": {
      "scrolled": false
     },
     "outputs": [
      {
       "output_type": "stream",
       "stream": "stdout",
       "text": [
        "generated:  Variable containing:\n",
        "-8.5671 -8.4933 -8.5500  ...  -8.4274 -8.4987 -8.4688\n",
        "[torch.FloatTensor of size 1x5003]\n",
        " target:  Variable containing:\n",
        " 428\n",
        "[torch.LongTensor of size 1]\n",
        "\n",
        "generated: "
       ]
      },
      {
       "output_type": "stream",
       "stream": "stdout",
       "text": [
        " Variable containing:\n",
        "-8.4988 -8.4747 -8.5585  ...  -8.5119 -8.5296 -8.4946\n",
        "[torch.FloatTensor of size 1x5003]\n",
        " target:  Variable containing:\n",
        " 4852\n",
        "[torch.LongTensor of size 1]\n",
        "\n",
        "generated: "
       ]
      },
      {
       "output_type": "stream",
       "stream": "stdout",
       "text": [
        " Variable containing:\n",
        "-8.5128 -8.4872 -8.5371  ...  -8.5228 -8.5269 -8.5213\n",
        "[torch.FloatTensor of size 1x5003]\n",
        " target:  Variable containing:\n",
        " 74\n",
        "[torch.LongTensor of size 1]\n",
        "\n",
        "generated: "
       ]
      },
      {
       "output_type": "stream",
       "stream": "stdout",
       "text": [
        " Variable containing:\n",
        "-8.4674 -8.4791 -8.5330  ...  -8.4973 -8.5488 -8.5206\n",
        "[torch.FloatTensor of size 1x5003]\n",
        " target:  Variable containing:\n",
        " 30\n",
        "[torch.LongTensor of size 1]\n",
        "\n",
        "generated: "
       ]
      },
      {
       "output_type": "stream",
       "stream": "stdout",
       "text": [
        " Variable containing:\n",
        "-8.5010 -8.4858 -8.5485  ...  -8.4221 -8.5270 -8.5299\n",
        "[torch.FloatTensor of size 1x5003]\n",
        " target:  Variable containing:\n",
        " 73\n",
        "[torch.LongTensor of size 1]\n",
        "\n",
        "generated: "
       ]
      },
      {
       "output_type": "stream",
       "stream": "stdout",
       "text": [
        " Variable containing:\n",
        "-8.5104 -8.5203 -8.6035  ...  -8.3889 -8.4865 -8.5245\n",
        "[torch.FloatTensor of size 1x5003]\n",
        " target:  Variable containing:\n",
        " 252\n",
        "[torch.LongTensor of size 1]\n",
        "\n",
        "generated: "
       ]
      },
      {
       "output_type": "stream",
       "stream": "stdout",
       "text": [
        " Variable containing:\n",
        "-8.4952 -8.5151 -8.5941  ...  -8.4018 -8.4767 -8.4908\n",
        "[torch.FloatTensor of size 1x5003]\n",
        " target:  Variable containing:\n",
        " 37\n",
        "[torch.LongTensor of size 1]\n",
        "\n",
        "generated: "
       ]
      },
      {
       "output_type": "stream",
       "stream": "stdout",
       "text": [
        " Variable containing:\n",
        "-8.5040 -8.5159 -8.5760  ...  -8.4013 -8.5296 -8.4824\n",
        "[torch.FloatTensor of size 1x5003]\n",
        " target:  Variable containing:\n",
        " 3110\n",
        "[torch.LongTensor of size 1]\n",
        "\n",
        "generated: "
       ]
      },
      {
       "output_type": "stream",
       "stream": "stdout",
       "text": [
        " Variable containing:\n",
        "-8.4915 -8.5224 -8.5842  ...  -8.4293 -8.5951 -8.5205\n",
        "[torch.FloatTensor of size 1x5003]\n",
        " target:  Variable containing:\n",
        " 2\n",
        "[torch.LongTensor of size 1]\n",
        "\n",
        "generated: "
       ]
      },
      {
       "output_type": "stream",
       "stream": "stdout",
       "text": [
        " Variable containing:\n",
        "-8.5054 -8.5024 -8.5986  ...  -8.4514 -8.5772 -8.5519\n",
        "[torch.FloatTensor of size 1x5003]\n",
        " target:  Variable containing:\n",
        " 44\n",
        "[torch.LongTensor of size 1]\n",
        "\n",
        "generated: "
       ]
      },
      {
       "output_type": "stream",
       "stream": "stdout",
       "text": [
        " Variable containing:\n",
        "-8.5101 -8.5487 -8.6499  ...  -8.5066 -8.5791 -8.5021\n",
        "[torch.FloatTensor of size 1x5003]\n",
        " target:  Variable containing:\n",
        " 75\n",
        "[torch.LongTensor of size 1]\n",
        "\n",
        "generated: "
       ]
      },
      {
       "output_type": "stream",
       "stream": "stdout",
       "text": [
        " Variable containing:\n",
        "-8.5064 -8.5471 -8.6379  ...  -8.5484 -8.5651 -8.5646\n",
        "[torch.FloatTensor of size 1x5003]\n",
        " target:  Variable containing:\n",
        " 10\n",
        "[torch.LongTensor of size 1]\n",
        "\n",
        "generated: "
       ]
      },
      {
       "output_type": "stream",
       "stream": "stdout",
       "text": [
        " Variable containing:\n",
        "-8.4895 -8.5051 -8.6107  ...  -8.5102 -8.5558 -8.5543\n",
        "[torch.FloatTensor of size 1x5003]\n",
        " target:  Variable containing:\n",
        " 102\n",
        "[torch.LongTensor of size 1]\n",
        "\n",
        "generated: "
       ]
      },
      {
       "output_type": "stream",
       "stream": "stdout",
       "text": [
        " Variable containing:\n",
        "-8.5432 -8.4199 -8.5611  ...  -8.4601 -8.5285 -8.5518\n",
        "[torch.FloatTensor of size 1x5003]\n",
        " target:  Variable containing:\n",
        " 487\n",
        "[torch.LongTensor of size 1]\n",
        "\n",
        "generated: "
       ]
      },
      {
       "output_type": "stream",
       "stream": "stdout",
       "text": [
        " Variable containing:\n",
        "-8.5421 -8.4356 -8.5302  ...  -8.4830 -8.4969 -8.5281\n",
        "[torch.FloatTensor of size 1x5003]\n",
        " target:  Variable containing:\n",
        " 8\n",
        "[torch.LongTensor of size 1]\n",
        "\n",
        "generated: "
       ]
      },
      {
       "output_type": "stream",
       "stream": "stdout",
       "text": [
        " Variable containing:\n",
        "-8.4643 -8.4269 -8.4931  ...  -8.5148 -8.5192 -8.5429\n",
        "[torch.FloatTensor of size 1x5003]\n",
        " target:  Variable containing:\n",
        " 48\n",
        "[torch.LongTensor of size 1]\n",
        "\n",
        "generated: "
       ]
      },
      {
       "output_type": "stream",
       "stream": "stdout",
       "text": [
        " Variable containing:\n",
        "-8.4170 -8.4385 -8.5006  ...  -8.5387 -8.5259 -8.5696\n",
        "[torch.FloatTensor of size 1x5003]\n",
        " target:  Variable containing:\n",
        " 2675\n",
        "[torch.LongTensor of size 1]\n",
        "\n",
        "generated: "
       ]
      },
      {
       "output_type": "stream",
       "stream": "stdout",
       "text": [
        " Variable containing:\n",
        "-8.4606 -8.4145 -8.4577  ...  -8.5183 -8.5058 -8.6509\n",
        "[torch.FloatTensor of size 1x5003]\n",
        " target:  Variable containing:\n",
        " 8\n",
        "[torch.LongTensor of size 1]\n",
        "\n",
        "generated: "
       ]
      },
      {
       "output_type": "stream",
       "stream": "stdout",
       "text": [
        " Variable containing:\n",
        "-8.4452 -8.4116 -8.4164  ...  -8.5359 -8.5218 -8.6569\n",
        "[torch.FloatTensor of size 1x5003]\n",
        " target:  Variable containing:\n",
        " 3782\n",
        "[torch.LongTensor of size 1]\n",
        "\n",
        "generated: "
       ]
      },
      {
       "output_type": "stream",
       "stream": "stdout",
       "text": [
        " Variable containing:\n",
        "-8.4282 -8.4417 -8.3907  ...  -8.5743 -8.5188 -8.6395\n",
        "[torch.FloatTensor of size 1x5003]\n",
        " target:  Variable containing:\n",
        " 9\n",
        "[torch.LongTensor of size 1]\n",
        "\n",
        "generated: "
       ]
      },
      {
       "output_type": "stream",
       "stream": "stdout",
       "text": [
        " Variable containing:\n",
        "-8.4934 -8.4535 -8.3878  ...  -8.5534 -8.5090 -8.6202\n",
        "[torch.FloatTensor of size 1x5003]\n",
        " target:  Variable containing:\n",
        " 219\n",
        "[torch.LongTensor of size 1]\n",
        "\n",
        "generated: "
       ]
      },
      {
       "output_type": "stream",
       "stream": "stdout",
       "text": [
        " Variable containing:\n",
        "-8.4745 -8.4537 -8.3820  ...  -8.5496 -8.5214 -8.5858\n",
        "[torch.FloatTensor of size 1x5003]\n",
        " target:  Variable containing:\n",
        " 357\n",
        "[torch.LongTensor of size 1]\n",
        "\n",
        "generated: "
       ]
      },
      {
       "output_type": "stream",
       "stream": "stdout",
       "text": [
        " Variable containing:\n",
        "-8.4490 -8.4190 -8.3966  ...  -8.5359 -8.5130 -8.5459\n",
        "[torch.FloatTensor of size 1x5003]\n",
        " target:  Variable containing:\n",
        " 4852\n",
        "[torch.LongTensor of size 1]\n",
        "\n",
        "generated: "
       ]
      },
      {
       "output_type": "stream",
       "stream": "stdout",
       "text": [
        " Variable containing:\n",
        "-8.5004 -8.4426 -8.3982  ...  -8.4778 -8.5010 -8.5341\n",
        "[torch.FloatTensor of size 1x5003]\n",
        " target:  Variable containing:\n",
        " 43\n",
        "[torch.LongTensor of size 1]\n",
        "\n",
        "generated: "
       ]
      },
      {
       "output_type": "stream",
       "stream": "stdout",
       "text": [
        " Variable containing:\n",
        "-8.5200 -8.4148 -8.4416  ...  -8.4100 -8.4850 -8.5650\n",
        "[torch.FloatTensor of size 1x5003]\n",
        " target:  Variable containing:\n",
        " 29\n",
        "[torch.LongTensor of size 1]\n",
        "\n",
        "generated: "
       ]
      },
      {
       "output_type": "stream",
       "stream": "stdout",
       "text": [
        " Variable containing:\n",
        "-8.4998 -8.3931 -8.4700  ...  -8.4453 -8.5709 -8.5574\n",
        "[torch.FloatTensor of size 1x5003]\n",
        " target:  Variable containing:\n",
        " 1339\n",
        "[torch.LongTensor of size 1]\n",
        "\n",
        "generated: "
       ]
      },
      {
       "output_type": "stream",
       "stream": "stdout",
       "text": [
        " Variable containing:\n",
        "-8.4511 -8.4568 -8.4569  ...  -8.4846 -8.5475 -8.5448\n",
        "[torch.FloatTensor of size 1x5003]\n",
        " target:  Variable containing:\n",
        " 180\n",
        "[torch.LongTensor of size 1]\n",
        "\n",
        "generated: "
       ]
      },
      {
       "output_type": "stream",
       "stream": "stdout",
       "text": [
        " Variable containing:\n",
        "-8.4882 -8.5005 -8.4812  ...  -8.5029 -8.5817 -8.5080\n",
        "[torch.FloatTensor of size 1x5003]\n",
        " target:  Variable containing:\n",
        " 40\n",
        "[torch.LongTensor of size 1]\n",
        "\n",
        "generated: "
       ]
      },
      {
       "output_type": "stream",
       "stream": "stdout",
       "text": [
        " Variable containing:\n",
        "-8.4816 -8.4751 -8.4932  ...  -8.4643 -8.6269 -8.5281\n",
        "[torch.FloatTensor of size 1x5003]\n",
        " target:  Variable containing:\n",
        " 162\n",
        "[torch.LongTensor of size 1]\n",
        "\n",
        "generated: "
       ]
      }
     ]
    },
    {
     "cell_type": "markdown",
     "metadata": {},
     "source": [
      "## Plotting training loss\n",
      "\n",
      "Plotting is done with matplotlib, using the array `plot_losses` that was created while training."
     ]
    },
    {
     "cell_type": "code",
     "collapsed": false,
     "input": [
      "import matplotlib.pyplot as plt\n",
      "import matplotlib.ticker as ticker\n",
      "import numpy as np\n",
      "%matplotlib inline\n",
      "\n",
      "def show_plot(points):\n",
      "    plt.figure()\n",
      "    fig, ax = plt.subplots()\n",
      "    loc = ticker.MultipleLocator(base=0.2) # put ticks at regular intervals\n",
      "    ax.yaxis.set_major_locator(loc)\n",
      "    plt.plot(points)\n",
      "\n",
      "show_plot(plot_losses)"
     ],
     "language": "python",
     "metadata": {
      "scrolled": true
     },
     "outputs": []
    },
    {
     "cell_type": "markdown",
     "metadata": {},
     "source": [
      "# Evaluating the network\n",
      "\n",
      "Evaluation is mostly the same as training, but there are no targets. Instead we always feed the decoder's predictions back to itself. Every time it predicts a word, we add it to the output string. If it predicts the EOS token we stop there. We also store the decoder's attention outputs for each step to display later."
     ]
    },
    {
     "cell_type": "code",
     "collapsed": true,
     "input": [
      "def evaluate(sentence, max_length=200):\n",
      "    input_variable = variable_from_sentence(voc, sentence)\n",
      "    input_length = input_variable.size()[0]\n",
      "    \n",
      "    # Run through encoder\n",
      "    encoder_hidden = encoder.init_hidden()\n",
      "    encoder_outputs, encoder_hidden = encoder(input_variable, encoder_hidden)\n",
      "\n",
      "    # Create starting vectors for decoder\n",
      "    decoder_input = Variable(torch.LongTensor([[SOS_token]])) # SOS\n",
      "    decoder_context = Variable(torch.zeros(1, decoder.hidden_size))\n",
      "    if USE_CUDA:\n",
      "        decoder_input = decoder_input.cuda()\n",
      "        decoder_context = decoder_context.cuda()\n",
      "\n",
      "    decoder_hidden = encoder_hidden\n",
      "    \n",
      "    decoded_words = []\n",
      "    decoder_attentions = torch.zeros(max_length, max_length)\n",
      "    \n",
      "    # Run through decoder\n",
      "    for di in range(max_length):\n",
      "        decoder_output, decoder_context, decoder_hidden, decoder_attention = decoder(decoder_input, decoder_context, decoder_hidden, encoder_outputs)\n",
      "        decoder_attentions[di,:decoder_attention.size(2)] += decoder_attention.squeeze(0).squeeze(0).cpu().data\n",
      "\n",
      "        # Choose top word from output\n",
      "        topv, topi = decoder_output.data.topk(1)\n",
      "        ni = topi[0][0]\n",
      "        if ni == EOS_token:\n",
      "            decoded_words.append('<EOS>')\n",
      "            break\n",
      "        else:\n",
      "            decoded_words.append(voc.index2word[ni])\n",
      "            \n",
      "        # Next input is chosen word\n",
      "        decoder_input = Variable(torch.LongTensor([[ni]]))\n",
      "        if USE_CUDA: decoder_input = decoder_input.cuda()\n",
      "    \n",
      "    return decoded_words, decoder_attentions[:di+1, :len(encoder_outputs)]"
     ],
     "language": "python",
     "metadata": {},
     "outputs": []
    },
    {
     "cell_type": "markdown",
     "metadata": {},
     "source": [
      "We can evaluate random sentences from the training set and print out the input, target, and output to make some subjective quality judgements:"
     ]
    },
    {
     "cell_type": "code",
     "collapsed": true,
     "input": [
      "def evaluate_randomly():\n",
      "    pair = random.choice(pairs)\n",
      "    \n",
      "    output_words, decoder_attn = evaluate(pair[0])\n",
      "    output_sentence = ' '.join(output_words)\n",
      "    \n",
      "    print('>', pair[0])\n",
      "    print('=', pair[1])\n",
      "    print('<', output_sentence)\n",
      "    print('')"
     ],
     "language": "python",
     "metadata": {},
     "outputs": []
    },
    {
     "cell_type": "code",
     "collapsed": false,
     "input": [
      "evaluate_randomly()"
     ],
     "language": "python",
     "metadata": {
      "scrolled": true
     },
     "outputs": []
    },
    {
     "cell_type": "markdown",
     "metadata": {},
     "source": [
      "# Visualizing attention\n",
      "\n",
      "A useful property of the attention mechanism is its highly interpretable outputs. Because it is used to weight specific encoder outputs of the input sequence, we can imagine looking where the network is focused most at each time step.\n",
      "\n",
      "You could simply run `plt.matshow(attentions)` to see attention output displayed as a matrix, with the columns being input steps and rows being output steps:"
     ]
    },
    {
     "cell_type": "code",
     "collapsed": false,
     "input": [
      "output_words, attentions = evaluate(\"house speaker who orchestrated the republican revolution of recent years and is overseeing the impeachment inquiry into president clinton was driven from office friday by a party that swiftly turned on him after its unexpected losses in tuesday s mid term elections .\")\n",
      "plt.matshow(attentions.numpy())"
     ],
     "language": "python",
     "metadata": {},
     "outputs": []
    },
    {
     "cell_type": "markdown",
     "metadata": {},
     "source": [
      "For a better viewing experience we will do the extra work of adding axes and labels:"
     ]
    },
    {
     "cell_type": "code",
     "collapsed": true,
     "input": [
      "def show_attention(input_sentence, output_words, attentions):\n",
      "    # Set up figure with colorbar\n",
      "    fig = plt.figure()\n",
      "    fig.set_figwidth(20)\n",
      "    \n",
      "    # fig.set_figheight(50)\n",
      "\n",
      "    ax = fig.add_subplot(111)\n",
      "    cax = ax.matshow(attentions.numpy(), cmap='bone', aspect = 1)\n",
      "    fig.colorbar(cax)\n",
      "\n",
      "    # Set up axes\n",
      "    ax.set_xticklabels([''] + input_sentence.split(' ') + ['<EOS>'], rotation=90)\n",
      "    ax.set_yticklabels([''] + output_words)\n",
      "\n",
      "    # Show label at every tick\n",
      "    ax.xaxis.set_major_locator(ticker.MultipleLocator(1))\n",
      "    ax.yaxis.set_major_locator(ticker.MultipleLocator(1))\n",
      "\n",
      "    plt.show()\n",
      "    plt.close()\n",
      "\n",
      "def evaluate_and_show_attention(input_sentence):\n",
      "    output_words, attentions = evaluate(input_sentence)\n",
      "    print('input =', input_sentence)\n",
      "    print('output =', ' '.join(output_words))\n",
      "    show_attention(input_sentence, output_words, attentions)"
     ],
     "language": "python",
     "metadata": {},
     "outputs": []
    },
    {
     "cell_type": "code",
     "collapsed": false,
     "input": [
      "evaluate_and_show_attention(\"a south korean lawmaker said friday communist north korea could be producing bombs and could have more secret underground nuclear facilities than already feared .\")"
     ],
     "language": "python",
     "metadata": {},
     "outputs": []
    },
    {
     "cell_type": "code",
     "collapsed": false,
     "input": [
      "pair = random.choice(pairs)\n",
      "evaluate_and_show_attention(' '.join(pairs[0]))\n",
      "#evaluate_and_show_attention(\"egyptian president hosni mubarak met here sunday with syrian president hafez assad to try to defuse growing tension between syria and turkey .\")"
     ],
     "language": "python",
     "metadata": {},
     "outputs": []
    },
    {
     "cell_type": "code",
     "collapsed": false,
     "input": [
      "evaluate_and_show_attention(\"police and soldiers on friday blocked off the street in front of a house where members of a terrorist gang are believed to have assembled the bomb that blew up the u .s . embassy killing people .\")"
     ],
     "language": "python",
     "metadata": {},
     "outputs": []
    },
    {
     "cell_type": "code",
     "collapsed": false,
     "input": [
      "evaluate_and_show_attention(\"premier battled tuesday for any votes freed up from a split in a far left party but said he will resign if he loses a confidence vote expected later this week .\")"
     ],
     "language": "python",
     "metadata": {},
     "outputs": []
    },
    {
     "cell_type": "markdown",
     "metadata": {
      "collapsed": true
     },
     "source": [
      "# To do\n",
      "\n",
      "* Try with a different dataset\n",
      "    * cnn/dailymail\n",
      "    * gigawords\n",
      "    * standford\n",
      "    * Human &rarr; Machine (e.g. IOT commands)\n",
      "    * Chat &rarr; Response\n",
      "    * Question &rarr; Answer\n",
      "* Replace the embedding pre-trained word embeddings such as word2vec or GloVe\n",
      "* Try with more layers, more hidden units, and more sentences. Compare the training time and results.\n",
      "* Try different RNN layers like lstm.\n",
      "* Add batch operation for GPU training\n",
      "* Add beam search on decoder side when dealing with long documents.\n",
      "* Control the Different output size\n",
      "* Dig out other tricks"
     ]
    },
    {
     "cell_type": "code",
     "collapsed": true,
     "input": [],
     "language": "python",
     "metadata": {},
     "outputs": []
    }
   ],
   "metadata": {}
  }
 ]
}